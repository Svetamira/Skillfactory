{
 "cells": [
  {
   "cell_type": "code",
   "execution_count": 36,
   "metadata": {},
   "outputs": [],
   "source": [
    "import os\n",
    "import re\n",
    "import numpy as np # linear algebra\n",
    "import pandas as pd # data processing, CSV file I/O (e.g. pd.read_csv)\n",
    "import sys\n",
    "import seaborn as sns\n",
    "%matplotlib inline\n",
    "import matplotlib.pyplot as plt\n",
    "\n",
    "import string\n",
    "from collections import Counter\n",
    "from sklearn.preprocessing import PolynomialFeatures\n",
    "\n",
    "\n",
    "from sklearn.model_selection import train_test_split\n",
    "from sklearn.model_selection import KFold\n",
    "from tqdm.notebook import tqdm\n",
    "from catboost import CatBoostRegressor\n",
    "from sklearn.preprocessing import LabelEncoder\n",
    "from sklearn.ensemble import GradientBoostingRegressor, ExtraTreesRegressor, RandomForestRegressor\n",
    "from sklearn.linear_model import LogisticRegression\n",
    "from sklearn.metrics import mean_absolute_percentage_error as mape"
   ]
  },
  {
   "cell_type": "code",
   "execution_count": 2,
   "metadata": {},
   "outputs": [],
   "source": [
    "RANDOM_SEED = 42"
   ]
  },
  {
   "cell_type": "markdown",
   "metadata": {},
   "source": [
    "Импорт данных из соревнования"
   ]
  },
  {
   "cell_type": "code",
   "execution_count": 3,
   "metadata": {},
   "outputs": [],
   "source": [
    "test = pd.read_csv('C:/Users/Svetamira/sf-dst-car-price-prediction/test.csv')\n",
    "sample = pd.read_csv('C:/Users/Svetamira/sf-dst-car-price-prediction/sample_submission.csv')"
   ]
  },
  {
   "cell_type": "code",
   "execution_count": 4,
   "metadata": {},
   "outputs": [
    {
     "name": "stdout",
     "output_type": "stream",
     "text": [
      "<class 'pandas.core.frame.DataFrame'>\n",
      "RangeIndex: 34686 entries, 0 to 34685\n",
      "Data columns (total 32 columns):\n",
      " #   Column                Non-Null Count  Dtype \n",
      "---  ------                --------------  ----- \n",
      " 0   bodyType              34686 non-null  object\n",
      " 1   brand                 34686 non-null  object\n",
      " 2   car_url               34686 non-null  object\n",
      " 3   color                 34686 non-null  object\n",
      " 4   complectation_dict    6418 non-null   object\n",
      " 5   description           34686 non-null  object\n",
      " 6   engineDisplacement    34686 non-null  object\n",
      " 7   enginePower           34686 non-null  object\n",
      " 8   equipment_dict        24690 non-null  object\n",
      " 9   fuelType              34686 non-null  object\n",
      " 10  image                 34686 non-null  object\n",
      " 11  mileage               34686 non-null  int64 \n",
      " 12  modelDate             34686 non-null  int64 \n",
      " 13  model_info            34686 non-null  object\n",
      " 14  model_name            34686 non-null  object\n",
      " 15  name                  34686 non-null  object\n",
      " 16  numberOfDoors         34686 non-null  int64 \n",
      " 17  parsing_unixtime      34686 non-null  int64 \n",
      " 18  priceCurrency         34686 non-null  object\n",
      " 19  productionDate        34686 non-null  int64 \n",
      " 20  sell_id               34686 non-null  int64 \n",
      " 21  super_gen             34686 non-null  object\n",
      " 22  vehicleConfiguration  34686 non-null  object\n",
      " 23  vehicleTransmission   34686 non-null  object\n",
      " 24  vendor                34686 non-null  object\n",
      " 25  Владельцы             34686 non-null  object\n",
      " 26  Владение              11995 non-null  object\n",
      " 27  ПТС                   34685 non-null  object\n",
      " 28  Привод                34686 non-null  object\n",
      " 29  Руль                  34686 non-null  object\n",
      " 30  Состояние             34686 non-null  object\n",
      " 31  Таможня               34686 non-null  object\n",
      "dtypes: int64(6), object(26)\n",
      "memory usage: 8.5+ MB\n"
     ]
    }
   ],
   "source": [
    "test.info()"
   ]
  },
  {
   "cell_type": "code",
   "execution_count": 5,
   "metadata": {},
   "outputs": [
    {
     "data": {
      "text/html": [
       "<div>\n",
       "<style scoped>\n",
       "    .dataframe tbody tr th:only-of-type {\n",
       "        vertical-align: middle;\n",
       "    }\n",
       "\n",
       "    .dataframe tbody tr th {\n",
       "        vertical-align: top;\n",
       "    }\n",
       "\n",
       "    .dataframe thead th {\n",
       "        text-align: right;\n",
       "    }\n",
       "</style>\n",
       "<table border=\"1\" class=\"dataframe\">\n",
       "  <thead>\n",
       "    <tr style=\"text-align: right;\">\n",
       "      <th></th>\n",
       "      <th>bodyType</th>\n",
       "      <th>brand</th>\n",
       "      <th>car_url</th>\n",
       "      <th>color</th>\n",
       "      <th>description</th>\n",
       "      <th>engineDisplacement</th>\n",
       "      <th>enginePower</th>\n",
       "      <th>equipment_dict</th>\n",
       "      <th>fuelType</th>\n",
       "      <th>image</th>\n",
       "      <th>...</th>\n",
       "      <th>vehicleConfiguration</th>\n",
       "      <th>vehicleTransmission</th>\n",
       "      <th>vendor</th>\n",
       "      <th>Владельцы</th>\n",
       "      <th>Владение</th>\n",
       "      <th>ПТС</th>\n",
       "      <th>Привод</th>\n",
       "      <th>Руль</th>\n",
       "      <th>Состояние</th>\n",
       "      <th>Таможня</th>\n",
       "    </tr>\n",
       "  </thead>\n",
       "  <tbody>\n",
       "    <tr>\n",
       "      <th>0</th>\n",
       "      <td>лифтбек</td>\n",
       "      <td>SKODA</td>\n",
       "      <td>https://auto.ru/cars/used/sale/skoda/octavia/1...</td>\n",
       "      <td>синий</td>\n",
       "      <td>Все автомобили, представленные в продаже, прох...</td>\n",
       "      <td>1.2 LTR</td>\n",
       "      <td>105 N12</td>\n",
       "      <td>{\"engine-proof\":true,\"tinted-glass\":true,\"airb...</td>\n",
       "      <td>бензин</td>\n",
       "      <td>https://autoru.naydex.net/o9DBXQ270/5ac010hAY0...</td>\n",
       "      <td>...</td>\n",
       "      <td>LIFTBACK ROBOT 1.2</td>\n",
       "      <td>роботизированная</td>\n",
       "      <td>EUROPEAN</td>\n",
       "      <td>3 или более</td>\n",
       "      <td>NaN</td>\n",
       "      <td>Оригинал</td>\n",
       "      <td>передний</td>\n",
       "      <td>Левый</td>\n",
       "      <td>Не требует ремонта</td>\n",
       "      <td>Растаможен</td>\n",
       "    </tr>\n",
       "    <tr>\n",
       "      <th>1</th>\n",
       "      <td>лифтбек</td>\n",
       "      <td>SKODA</td>\n",
       "      <td>https://auto.ru/cars/used/sale/skoda/octavia/1...</td>\n",
       "      <td>чёрный</td>\n",
       "      <td>ЛОТ: 01217195\\nАвтопрага Север\\nДанный автомоб...</td>\n",
       "      <td>1.6 LTR</td>\n",
       "      <td>110 N12</td>\n",
       "      <td>{\"cruise-control\":true,\"asr\":true,\"esp\":true,\"...</td>\n",
       "      <td>бензин</td>\n",
       "      <td>https://autoru.naydex.net/o9DBXQ270/5ac010hAY0...</td>\n",
       "      <td>...</td>\n",
       "      <td>LIFTBACK MECHANICAL 1.6</td>\n",
       "      <td>механическая</td>\n",
       "      <td>EUROPEAN</td>\n",
       "      <td>1 владелец</td>\n",
       "      <td>NaN</td>\n",
       "      <td>Оригинал</td>\n",
       "      <td>передний</td>\n",
       "      <td>Левый</td>\n",
       "      <td>Не требует ремонта</td>\n",
       "      <td>Растаможен</td>\n",
       "    </tr>\n",
       "    <tr>\n",
       "      <th>2</th>\n",
       "      <td>лифтбек</td>\n",
       "      <td>SKODA</td>\n",
       "      <td>https://auto.ru/cars/used/sale/skoda/superb/11...</td>\n",
       "      <td>серый</td>\n",
       "      <td>Все автомобили, представленные в продаже, прох...</td>\n",
       "      <td>1.8 LTR</td>\n",
       "      <td>152 N12</td>\n",
       "      <td>{\"cruise-control\":true,\"tinted-glass\":true,\"es...</td>\n",
       "      <td>бензин</td>\n",
       "      <td>https://avatars.mds.yandex.net/get-autoru-vos/...</td>\n",
       "      <td>...</td>\n",
       "      <td>LIFTBACK ROBOT 1.8</td>\n",
       "      <td>роботизированная</td>\n",
       "      <td>EUROPEAN</td>\n",
       "      <td>1 владелец</td>\n",
       "      <td>NaN</td>\n",
       "      <td>Оригинал</td>\n",
       "      <td>передний</td>\n",
       "      <td>Левый</td>\n",
       "      <td>Не требует ремонта</td>\n",
       "      <td>Растаможен</td>\n",
       "    </tr>\n",
       "    <tr>\n",
       "      <th>3</th>\n",
       "      <td>лифтбек</td>\n",
       "      <td>SKODA</td>\n",
       "      <td>https://auto.ru/cars/used/sale/skoda/octavia/1...</td>\n",
       "      <td>коричневый</td>\n",
       "      <td>КОМПЛЕКТ ЗИМНЕЙ (ЛЕТНЕЙ) РЕЗИНЫ ПО СЕЗОНУ В ПО...</td>\n",
       "      <td>1.6 LTR</td>\n",
       "      <td>110 N12</td>\n",
       "      <td>{\"cruise-control\":true,\"roller-blind-for-rear-...</td>\n",
       "      <td>бензин</td>\n",
       "      <td>https://autoru.naydex.net/o9DBXQ270/5ac010hAY0...</td>\n",
       "      <td>...</td>\n",
       "      <td>LIFTBACK AUTOMATIC 1.6</td>\n",
       "      <td>автоматическая</td>\n",
       "      <td>EUROPEAN</td>\n",
       "      <td>1 владелец</td>\n",
       "      <td>NaN</td>\n",
       "      <td>Оригинал</td>\n",
       "      <td>передний</td>\n",
       "      <td>Левый</td>\n",
       "      <td>Не требует ремонта</td>\n",
       "      <td>Растаможен</td>\n",
       "    </tr>\n",
       "    <tr>\n",
       "      <th>4</th>\n",
       "      <td>лифтбек</td>\n",
       "      <td>SKODA</td>\n",
       "      <td>https://auto.ru/cars/used/sale/skoda/octavia/1...</td>\n",
       "      <td>белый</td>\n",
       "      <td>ЛОТ: 01220889\\nАвтопрага Север\\n\\nВы можете по...</td>\n",
       "      <td>1.8 LTR</td>\n",
       "      <td>152 N12</td>\n",
       "      <td>{\"cruise-control\":true,\"asr\":true,\"esp\":true,\"...</td>\n",
       "      <td>бензин</td>\n",
       "      <td>https://autoru.naydex.net/o9DBXQ270/5ac010hAY0...</td>\n",
       "      <td>...</td>\n",
       "      <td>LIFTBACK AUTOMATIC 1.8</td>\n",
       "      <td>автоматическая</td>\n",
       "      <td>EUROPEAN</td>\n",
       "      <td>1 владелец</td>\n",
       "      <td>NaN</td>\n",
       "      <td>Оригинал</td>\n",
       "      <td>передний</td>\n",
       "      <td>Левый</td>\n",
       "      <td>Не требует ремонта</td>\n",
       "      <td>Растаможен</td>\n",
       "    </tr>\n",
       "    <tr>\n",
       "      <th>...</th>\n",
       "      <td>...</td>\n",
       "      <td>...</td>\n",
       "      <td>...</td>\n",
       "      <td>...</td>\n",
       "      <td>...</td>\n",
       "      <td>...</td>\n",
       "      <td>...</td>\n",
       "      <td>...</td>\n",
       "      <td>...</td>\n",
       "      <td>...</td>\n",
       "      <td>...</td>\n",
       "      <td>...</td>\n",
       "      <td>...</td>\n",
       "      <td>...</td>\n",
       "      <td>...</td>\n",
       "      <td>...</td>\n",
       "      <td>...</td>\n",
       "      <td>...</td>\n",
       "      <td>...</td>\n",
       "      <td>...</td>\n",
       "      <td>...</td>\n",
       "    </tr>\n",
       "    <tr>\n",
       "      <th>34681</th>\n",
       "      <td>седан</td>\n",
       "      <td>BMW</td>\n",
       "      <td>https://auto.ru/cars/used/sale/bmw/3er/1101369...</td>\n",
       "      <td>коричневый</td>\n",
       "      <td>Продается BMW 316i в отличном состоянии. Прода...</td>\n",
       "      <td>1.6 LTR</td>\n",
       "      <td>136 N12</td>\n",
       "      <td>{\"cruise-control\":true,\"asr\":true,\"tinted-glas...</td>\n",
       "      <td>бензин</td>\n",
       "      <td>https://autoru.naydex.net/nwI1K7152/b604fdsYg7...</td>\n",
       "      <td>...</td>\n",
       "      <td>SEDAN AUTOMATIC 1.6</td>\n",
       "      <td>автоматическая</td>\n",
       "      <td>EUROPEAN</td>\n",
       "      <td>3 или более</td>\n",
       "      <td>2 года и 1 месяц</td>\n",
       "      <td>Оригинал</td>\n",
       "      <td>задний</td>\n",
       "      <td>Левый</td>\n",
       "      <td>Не требует ремонта</td>\n",
       "      <td>Растаможен</td>\n",
       "    </tr>\n",
       "    <tr>\n",
       "      <th>34682</th>\n",
       "      <td>седан</td>\n",
       "      <td>BMW</td>\n",
       "      <td>https://auto.ru/cars/used/sale/bmw/5er/1101369...</td>\n",
       "      <td>чёрный</td>\n",
       "      <td>Продаётся отличный автомобиль.</td>\n",
       "      <td>2.0 LTR</td>\n",
       "      <td>190 N12</td>\n",
       "      <td>NaN</td>\n",
       "      <td>дизель</td>\n",
       "      <td>https://autoru.naydex.net/nwI1K7152/b604fdsYg7...</td>\n",
       "      <td>...</td>\n",
       "      <td>SEDAN AUTOMATIC 2.0</td>\n",
       "      <td>автоматическая</td>\n",
       "      <td>EUROPEAN</td>\n",
       "      <td>1 владелец</td>\n",
       "      <td>NaN</td>\n",
       "      <td>Оригинал</td>\n",
       "      <td>полный</td>\n",
       "      <td>Левый</td>\n",
       "      <td>Не требует ремонта</td>\n",
       "      <td>Растаможен</td>\n",
       "    </tr>\n",
       "    <tr>\n",
       "      <th>34683</th>\n",
       "      <td>седан</td>\n",
       "      <td>BMW</td>\n",
       "      <td>https://auto.ru/cars/used/sale/bmw/5er/1101364...</td>\n",
       "      <td>серый</td>\n",
       "      <td>Хорошее состояние</td>\n",
       "      <td>2.5 LTR</td>\n",
       "      <td>170 N12</td>\n",
       "      <td>NaN</td>\n",
       "      <td>бензин</td>\n",
       "      <td>https://avatars.mds.yandex.net/get-autoru-vos/...</td>\n",
       "      <td>...</td>\n",
       "      <td>SEDAN AUTOMATIC 2.5</td>\n",
       "      <td>автоматическая</td>\n",
       "      <td>EUROPEAN</td>\n",
       "      <td>3 или более</td>\n",
       "      <td>NaN</td>\n",
       "      <td>Дубликат</td>\n",
       "      <td>задний</td>\n",
       "      <td>Левый</td>\n",
       "      <td>Не требует ремонта</td>\n",
       "      <td>Растаможен</td>\n",
       "    </tr>\n",
       "    <tr>\n",
       "      <th>34684</th>\n",
       "      <td>внедорожник 5 дв.</td>\n",
       "      <td>BMW</td>\n",
       "      <td>https://auto.ru/cars/used/sale/bmw/x1/11013625...</td>\n",
       "      <td>коричневый</td>\n",
       "      <td>Автомобиль в идеальном состоянии . Куплен новы...</td>\n",
       "      <td>2.0 LTR</td>\n",
       "      <td>184 N12</td>\n",
       "      <td>{\"engine-proof\":true,\"esp\":true,\"start-stop-fu...</td>\n",
       "      <td>дизель</td>\n",
       "      <td>https://autoru.naydex.net/nwI1K7152/b604fdsYg7...</td>\n",
       "      <td>...</td>\n",
       "      <td>ALLROAD_5_DOORS AUTOMATIC 2.0</td>\n",
       "      <td>автоматическая</td>\n",
       "      <td>EUROPEAN</td>\n",
       "      <td>2 владельца</td>\n",
       "      <td>NaN</td>\n",
       "      <td>Оригинал</td>\n",
       "      <td>полный</td>\n",
       "      <td>Левый</td>\n",
       "      <td>Не требует ремонта</td>\n",
       "      <td>Растаможен</td>\n",
       "    </tr>\n",
       "    <tr>\n",
       "      <th>34685</th>\n",
       "      <td>внедорожник 5 дв.</td>\n",
       "      <td>BMW</td>\n",
       "      <td>https://auto.ru/cars/used/sale/bmw/x5/11012560...</td>\n",
       "      <td>чёрный</td>\n",
       "      <td>Пробег реальный, состояние отличное! Авторска...</td>\n",
       "      <td>3.0 LTR</td>\n",
       "      <td>235 N12</td>\n",
       "      <td>{\"alloy-wheel-disks\":true,\"navigation\":true,\"p...</td>\n",
       "      <td>дизель</td>\n",
       "      <td>https://avatars.mds.yandex.net/get-autoru-vos/...</td>\n",
       "      <td>...</td>\n",
       "      <td>ALLROAD_5_DOORS AUTOMATIC 3.0</td>\n",
       "      <td>автоматическая</td>\n",
       "      <td>EUROPEAN</td>\n",
       "      <td>3 или более</td>\n",
       "      <td>6 лет и 1 месяц</td>\n",
       "      <td>Оригинал</td>\n",
       "      <td>полный</td>\n",
       "      <td>Левый</td>\n",
       "      <td>Не требует ремонта</td>\n",
       "      <td>Растаможен</td>\n",
       "    </tr>\n",
       "  </tbody>\n",
       "</table>\n",
       "<p>34686 rows × 31 columns</p>\n",
       "</div>"
      ],
      "text/plain": [
       "                bodyType  brand  \\\n",
       "0                лифтбек  SKODA   \n",
       "1                лифтбек  SKODA   \n",
       "2                лифтбек  SKODA   \n",
       "3                лифтбек  SKODA   \n",
       "4                лифтбек  SKODA   \n",
       "...                  ...    ...   \n",
       "34681              седан    BMW   \n",
       "34682              седан    BMW   \n",
       "34683              седан    BMW   \n",
       "34684  внедорожник 5 дв.    BMW   \n",
       "34685  внедорожник 5 дв.    BMW   \n",
       "\n",
       "                                                 car_url       color  \\\n",
       "0      https://auto.ru/cars/used/sale/skoda/octavia/1...       синий   \n",
       "1      https://auto.ru/cars/used/sale/skoda/octavia/1...      чёрный   \n",
       "2      https://auto.ru/cars/used/sale/skoda/superb/11...       серый   \n",
       "3      https://auto.ru/cars/used/sale/skoda/octavia/1...  коричневый   \n",
       "4      https://auto.ru/cars/used/sale/skoda/octavia/1...       белый   \n",
       "...                                                  ...         ...   \n",
       "34681  https://auto.ru/cars/used/sale/bmw/3er/1101369...  коричневый   \n",
       "34682  https://auto.ru/cars/used/sale/bmw/5er/1101369...      чёрный   \n",
       "34683  https://auto.ru/cars/used/sale/bmw/5er/1101364...       серый   \n",
       "34684  https://auto.ru/cars/used/sale/bmw/x1/11013625...  коричневый   \n",
       "34685  https://auto.ru/cars/used/sale/bmw/x5/11012560...      чёрный   \n",
       "\n",
       "                                             description engineDisplacement  \\\n",
       "0      Все автомобили, представленные в продаже, прох...            1.2 LTR   \n",
       "1      ЛОТ: 01217195\\nАвтопрага Север\\nДанный автомоб...            1.6 LTR   \n",
       "2      Все автомобили, представленные в продаже, прох...            1.8 LTR   \n",
       "3      КОМПЛЕКТ ЗИМНЕЙ (ЛЕТНЕЙ) РЕЗИНЫ ПО СЕЗОНУ В ПО...            1.6 LTR   \n",
       "4      ЛОТ: 01220889\\nАвтопрага Север\\n\\nВы можете по...            1.8 LTR   \n",
       "...                                                  ...                ...   \n",
       "34681  Продается BMW 316i в отличном состоянии. Прода...            1.6 LTR   \n",
       "34682                     Продаётся отличный автомобиль.            2.0 LTR   \n",
       "34683                                  Хорошее состояние            2.5 LTR   \n",
       "34684  Автомобиль в идеальном состоянии . Куплен новы...            2.0 LTR   \n",
       "34685   Пробег реальный, состояние отличное! Авторска...            3.0 LTR   \n",
       "\n",
       "      enginePower                                     equipment_dict fuelType  \\\n",
       "0         105 N12  {\"engine-proof\":true,\"tinted-glass\":true,\"airb...   бензин   \n",
       "1         110 N12  {\"cruise-control\":true,\"asr\":true,\"esp\":true,\"...   бензин   \n",
       "2         152 N12  {\"cruise-control\":true,\"tinted-glass\":true,\"es...   бензин   \n",
       "3         110 N12  {\"cruise-control\":true,\"roller-blind-for-rear-...   бензин   \n",
       "4         152 N12  {\"cruise-control\":true,\"asr\":true,\"esp\":true,\"...   бензин   \n",
       "...           ...                                                ...      ...   \n",
       "34681     136 N12  {\"cruise-control\":true,\"asr\":true,\"tinted-glas...   бензин   \n",
       "34682     190 N12                                                NaN   дизель   \n",
       "34683     170 N12                                                NaN   бензин   \n",
       "34684     184 N12  {\"engine-proof\":true,\"esp\":true,\"start-stop-fu...   дизель   \n",
       "34685     235 N12  {\"alloy-wheel-disks\":true,\"navigation\":true,\"p...   дизель   \n",
       "\n",
       "                                                   image  ...  \\\n",
       "0      https://autoru.naydex.net/o9DBXQ270/5ac010hAY0...  ...   \n",
       "1      https://autoru.naydex.net/o9DBXQ270/5ac010hAY0...  ...   \n",
       "2      https://avatars.mds.yandex.net/get-autoru-vos/...  ...   \n",
       "3      https://autoru.naydex.net/o9DBXQ270/5ac010hAY0...  ...   \n",
       "4      https://autoru.naydex.net/o9DBXQ270/5ac010hAY0...  ...   \n",
       "...                                                  ...  ...   \n",
       "34681  https://autoru.naydex.net/nwI1K7152/b604fdsYg7...  ...   \n",
       "34682  https://autoru.naydex.net/nwI1K7152/b604fdsYg7...  ...   \n",
       "34683  https://avatars.mds.yandex.net/get-autoru-vos/...  ...   \n",
       "34684  https://autoru.naydex.net/nwI1K7152/b604fdsYg7...  ...   \n",
       "34685  https://avatars.mds.yandex.net/get-autoru-vos/...  ...   \n",
       "\n",
       "                vehicleConfiguration  vehicleTransmission    vendor  \\\n",
       "0                 LIFTBACK ROBOT 1.2     роботизированная  EUROPEAN   \n",
       "1            LIFTBACK MECHANICAL 1.6         механическая  EUROPEAN   \n",
       "2                 LIFTBACK ROBOT 1.8     роботизированная  EUROPEAN   \n",
       "3             LIFTBACK AUTOMATIC 1.6       автоматическая  EUROPEAN   \n",
       "4             LIFTBACK AUTOMATIC 1.8       автоматическая  EUROPEAN   \n",
       "...                              ...                  ...       ...   \n",
       "34681            SEDAN AUTOMATIC 1.6       автоматическая  EUROPEAN   \n",
       "34682            SEDAN AUTOMATIC 2.0       автоматическая  EUROPEAN   \n",
       "34683            SEDAN AUTOMATIC 2.5       автоматическая  EUROPEAN   \n",
       "34684  ALLROAD_5_DOORS AUTOMATIC 2.0       автоматическая  EUROPEAN   \n",
       "34685  ALLROAD_5_DOORS AUTOMATIC 3.0       автоматическая  EUROPEAN   \n",
       "\n",
       "         Владельцы          Владение       ПТС    Привод   Руль  \\\n",
       "0      3 или более               NaN  Оригинал  передний  Левый   \n",
       "1       1 владелец               NaN  Оригинал  передний  Левый   \n",
       "2       1 владелец               NaN  Оригинал  передний  Левый   \n",
       "3       1 владелец               NaN  Оригинал  передний  Левый   \n",
       "4       1 владелец               NaN  Оригинал  передний  Левый   \n",
       "...            ...               ...       ...       ...    ...   \n",
       "34681  3 или более  2 года и 1 месяц  Оригинал    задний  Левый   \n",
       "34682   1 владелец               NaN  Оригинал    полный  Левый   \n",
       "34683  3 или более               NaN  Дубликат    задний  Левый   \n",
       "34684  2 владельца               NaN  Оригинал    полный  Левый   \n",
       "34685  3 или более   6 лет и 1 месяц  Оригинал    полный  Левый   \n",
       "\n",
       "                Состояние     Таможня  \n",
       "0      Не требует ремонта  Растаможен  \n",
       "1      Не требует ремонта  Растаможен  \n",
       "2      Не требует ремонта  Растаможен  \n",
       "3      Не требует ремонта  Растаможен  \n",
       "4      Не требует ремонта  Растаможен  \n",
       "...                   ...         ...  \n",
       "34681  Не требует ремонта  Растаможен  \n",
       "34682  Не требует ремонта  Растаможен  \n",
       "34683  Не требует ремонта  Растаможен  \n",
       "34684  Не требует ремонта  Растаможен  \n",
       "34685  Не требует ремонта  Растаможен  \n",
       "\n",
       "[34686 rows x 31 columns]"
      ]
     },
     "execution_count": 5,
     "metadata": {},
     "output_type": "execute_result"
    }
   ],
   "source": [
    "test.drop('complectation_dict', axis=1) #удалим столбец с преимущественно пустыми значениями"
   ]
  },
  {
   "cell_type": "markdown",
   "metadata": {},
   "source": [
    "Импорт данных с \"https://www.kaggle.com/juliadeinego/data-car-sales\""
   ]
  },
  {
   "cell_type": "code",
   "execution_count": 6,
   "metadata": {},
   "outputs": [
    {
     "name": "stderr",
     "output_type": "stream",
     "text": [
      "c:\\users\\svetamira\\miniconda3\\lib\\site-packages\\IPython\\core\\interactiveshell.py:3147: DtypeWarning: Columns (32) have mixed types.Specify dtype option on import or set low_memory=False.\n",
      "  interactivity=interactivity, compiler=compiler, result=result)\n"
     ]
    },
    {
     "name": "stdout",
     "output_type": "stream",
     "text": [
      "284632\n"
     ]
    }
   ],
   "source": [
    "train = pd.DataFrame()\n",
    "for dirname, _, filenames in os.walk('C:/Users/Svetamira/sf-dst-car-price-prediction/data'):\n",
    "    \n",
    "    for filename in filenames:\n",
    "        try:\n",
    "            df = pd.read_csv(os.path.join(dirname, filename))        \n",
    "            train = train.append(df, ignore_index = True)\n",
    "        except:\n",
    "            df = pd.read_csv(os.path.join(dirname, filename),sep=';')        \n",
    "            train = train.append(df, ignore_index = True)\n",
    "            \n",
    "print(len(train))"
   ]
  },
  {
   "cell_type": "code",
   "execution_count": 7,
   "metadata": {},
   "outputs": [
    {
     "name": "stdout",
     "output_type": "stream",
     "text": [
      "<class 'pandas.core.frame.DataFrame'>\n",
      "RangeIndex: 284632 entries, 0 to 284631\n",
      "Data columns (total 36 columns):\n",
      " #   Column               Non-Null Count   Dtype  \n",
      "---  ------               --------------   -----  \n",
      " 0   datetime             284071 non-null  object \n",
      " 1   parsing_unixtime     284069 non-null  float64\n",
      " 2   card                 284071 non-null  object \n",
      " 3   region               284069 non-null  object \n",
      " 4   sellerName           165904 non-null  object \n",
      " 5   sell_id              284069 non-null  object \n",
      " 6   car_url              284071 non-null  object \n",
      " 7   price                284069 non-null  object \n",
      " 8   description          281468 non-null  object \n",
      " 9   image                284069 non-null  object \n",
      " 10  bodyType             284071 non-null  object \n",
      " 11  color                284071 non-null  object \n",
      " 12  engine               284069 non-null  object \n",
      " 13  engineDisplacement   284069 non-null  object \n",
      " 14  enginePower          284069 non-null  object \n",
      " 15  fuelType             284069 non-null  object \n",
      " 16  mileage              284069 non-null  object \n",
      " 17  productionDate       284069 non-null  float64\n",
      " 18  vehicleTransmission  284069 non-null  object \n",
      " 19  Владельцы            284069 non-null  object \n",
      " 20  ПТС                  284069 non-null  object \n",
      " 21  Привод               284069 non-null  object \n",
      " 22  Руль                 284069 non-null  object \n",
      " 23  Состояние            284069 non-null  object \n",
      " 24  Таможня              284069 non-null  object \n",
      " 25  card_type            284071 non-null  object \n",
      " 26  brand                284071 non-null  object \n",
      " 27  model_name           284069 non-null  object \n",
      " 28  model_name2          284069 non-null  object \n",
      " 29  name                 284069 non-null  object \n",
      " 30  equipment_dict       284069 non-null  object \n",
      " 31  public_date          284069 non-null  object \n",
      " 32  nview                284069 non-null  object \n",
      " 33  model_name_full      284069 non-null  object \n",
      " 34  confDict             284071 non-null  object \n",
      " 35  dealerName           41190 non-null   object \n",
      "dtypes: float64(2), object(34)\n",
      "memory usage: 78.2+ MB\n"
     ]
    }
   ],
   "source": [
    "train.info()"
   ]
  },
  {
   "cell_type": "code",
   "execution_count": 8,
   "metadata": {},
   "outputs": [
    {
     "data": {
      "text/plain": [
       "datetime                  561\n",
       "parsing_unixtime          563\n",
       "card                      561\n",
       "region                    563\n",
       "sellerName             118728\n",
       "sell_id                   563\n",
       "car_url                   561\n",
       "price                     563\n",
       "description              3164\n",
       "image                     563\n",
       "bodyType                  561\n",
       "color                     561\n",
       "engine                    563\n",
       "engineDisplacement        563\n",
       "enginePower               563\n",
       "fuelType                  563\n",
       "mileage                   563\n",
       "productionDate            563\n",
       "vehicleTransmission       563\n",
       "Владельцы                 563\n",
       "ПТС                       563\n",
       "Привод                    563\n",
       "Руль                      563\n",
       "Состояние                 563\n",
       "Таможня                   563\n",
       "card_type                 561\n",
       "brand                     561\n",
       "model_name                563\n",
       "model_name2               563\n",
       "name                      563\n",
       "equipment_dict            563\n",
       "public_date               563\n",
       "nview                     563\n",
       "model_name_full           563\n",
       "confDict                  561\n",
       "dealerName             243442\n",
       "dtype: int64"
      ]
     },
     "execution_count": 8,
     "metadata": {},
     "output_type": "execute_result"
    }
   ],
   "source": [
    "train.isna().sum()"
   ]
  },
  {
   "cell_type": "code",
   "execution_count": 9,
   "metadata": {},
   "outputs": [],
   "source": [
    "train.dropna(subset=['price'], inplace=True)"
   ]
  },
  {
   "cell_type": "code",
   "execution_count": 10,
   "metadata": {},
   "outputs": [
    {
     "data": {
      "text/plain": [
       "datetime                    0\n",
       "parsing_unixtime            0\n",
       "card                        0\n",
       "region                      0\n",
       "sellerName             118165\n",
       "sell_id                     0\n",
       "car_url                     0\n",
       "price                       0\n",
       "description              2603\n",
       "image                       0\n",
       "bodyType                    0\n",
       "color                       0\n",
       "engine                      0\n",
       "engineDisplacement          0\n",
       "enginePower                 0\n",
       "fuelType                    0\n",
       "mileage                     0\n",
       "productionDate              0\n",
       "vehicleTransmission         0\n",
       "Владельцы                   0\n",
       "ПТС                         0\n",
       "Привод                      0\n",
       "Руль                        0\n",
       "Состояние                   0\n",
       "Таможня                     0\n",
       "card_type                   0\n",
       "brand                       0\n",
       "model_name                  0\n",
       "model_name2                 0\n",
       "name                        0\n",
       "equipment_dict              0\n",
       "public_date                 0\n",
       "nview                       0\n",
       "model_name_full             0\n",
       "confDict                    0\n",
       "dealerName             242879\n",
       "dtype: int64"
      ]
     },
     "execution_count": 10,
     "metadata": {},
     "output_type": "execute_result"
    }
   ],
   "source": [
    "train.isna().sum()"
   ]
  },
  {
   "cell_type": "code",
   "execution_count": 11,
   "metadata": {},
   "outputs": [],
   "source": [
    "#посмотрим какие колонки из data_train есть в data_test\n",
    "\n",
    "#создадим пустой список, в который добавим колонки data_train, присутствующие в data_test\n",
    "in_test = []\n",
    "#создадим пустой список, в который добавим колонки data_train, отсутствующие в data_test\n",
    "not_in_test = []\n",
    "\n",
    "for column in train.columns:\n",
    "    if column in test.columns:\n",
    "        in_test.append(column)\n",
    "    else:\n",
    "        not_in_test.append(column)"
   ]
  },
  {
   "cell_type": "code",
   "execution_count": 12,
   "metadata": {},
   "outputs": [
    {
     "data": {
      "text/plain": [
       "['parsing_unixtime',\n",
       " 'sell_id',\n",
       " 'car_url',\n",
       " 'description',\n",
       " 'image',\n",
       " 'bodyType',\n",
       " 'color',\n",
       " 'engineDisplacement',\n",
       " 'enginePower',\n",
       " 'fuelType',\n",
       " 'mileage',\n",
       " 'productionDate',\n",
       " 'vehicleTransmission',\n",
       " 'Владельцы',\n",
       " 'ПТС',\n",
       " 'Привод',\n",
       " 'Руль',\n",
       " 'Состояние',\n",
       " 'Таможня',\n",
       " 'brand',\n",
       " 'model_name',\n",
       " 'name',\n",
       " 'equipment_dict']"
      ]
     },
     "execution_count": 12,
     "metadata": {},
     "output_type": "execute_result"
    }
   ],
   "source": [
    "in_test "
   ]
  },
  {
   "cell_type": "code",
   "execution_count": 13,
   "metadata": {},
   "outputs": [
    {
     "data": {
      "text/plain": [
       "['datetime',\n",
       " 'card',\n",
       " 'region',\n",
       " 'sellerName',\n",
       " 'price',\n",
       " 'engine',\n",
       " 'card_type',\n",
       " 'model_name2',\n",
       " 'public_date',\n",
       " 'nview',\n",
       " 'model_name_full',\n",
       " 'confDict',\n",
       " 'dealerName']"
      ]
     },
     "execution_count": 13,
     "metadata": {},
     "output_type": "execute_result"
    }
   ],
   "source": [
    "not_in_test"
   ]
  },
  {
   "cell_type": "code",
   "execution_count": 14,
   "metadata": {},
   "outputs": [],
   "source": [
    "columns_to_drop = not_in_test[:4] + not_in_test[5:]"
   ]
  },
  {
   "cell_type": "code",
   "execution_count": 15,
   "metadata": {},
   "outputs": [],
   "source": [
    "train = train.drop(columns_to_drop, axis = 1)"
   ]
  },
  {
   "cell_type": "code",
   "execution_count": 16,
   "metadata": {},
   "outputs": [],
   "source": [
    "test = test[in_test]"
   ]
  },
  {
   "cell_type": "code",
   "execution_count": 17,
   "metadata": {},
   "outputs": [
    {
     "data": {
      "text/plain": [
       "parsing_unixtime          0\n",
       "sell_id                   0\n",
       "car_url                   0\n",
       "price                     0\n",
       "description            2603\n",
       "image                     0\n",
       "bodyType                  0\n",
       "color                     0\n",
       "engineDisplacement        0\n",
       "enginePower               0\n",
       "fuelType                  0\n",
       "mileage                   0\n",
       "productionDate            0\n",
       "vehicleTransmission       0\n",
       "Владельцы                 0\n",
       "ПТС                       0\n",
       "Привод                    0\n",
       "Руль                      0\n",
       "Состояние                 0\n",
       "Таможня                   0\n",
       "brand                     0\n",
       "model_name                0\n",
       "name                      0\n",
       "equipment_dict            0\n",
       "dtype: int64"
      ]
     },
     "execution_count": 17,
     "metadata": {},
     "output_type": "execute_result"
    }
   ],
   "source": [
    "train.isna().sum()"
   ]
  },
  {
   "cell_type": "code",
   "execution_count": 18,
   "metadata": {},
   "outputs": [
    {
     "name": "stdout",
     "output_type": "stream",
     "text": [
      "<class 'pandas.core.frame.DataFrame'>\n",
      "Int64Index: 284069 entries, 0 to 284631\n",
      "Data columns (total 24 columns):\n",
      " #   Column               Non-Null Count   Dtype  \n",
      "---  ------               --------------   -----  \n",
      " 0   parsing_unixtime     284069 non-null  float64\n",
      " 1   sell_id              284069 non-null  object \n",
      " 2   car_url              284069 non-null  object \n",
      " 3   price                284069 non-null  object \n",
      " 4   description          281466 non-null  object \n",
      " 5   image                284069 non-null  object \n",
      " 6   bodyType             284069 non-null  object \n",
      " 7   color                284069 non-null  object \n",
      " 8   engineDisplacement   284069 non-null  object \n",
      " 9   enginePower          284069 non-null  object \n",
      " 10  fuelType             284069 non-null  object \n",
      " 11  mileage              284069 non-null  object \n",
      " 12  productionDate       284069 non-null  float64\n",
      " 13  vehicleTransmission  284069 non-null  object \n",
      " 14  Владельцы            284069 non-null  object \n",
      " 15  ПТС                  284069 non-null  object \n",
      " 16  Привод               284069 non-null  object \n",
      " 17  Руль                 284069 non-null  object \n",
      " 18  Состояние            284069 non-null  object \n",
      " 19  Таможня              284069 non-null  object \n",
      " 20  brand                284069 non-null  object \n",
      " 21  model_name           284069 non-null  object \n",
      " 22  name                 284069 non-null  object \n",
      " 23  equipment_dict       284069 non-null  object \n",
      "dtypes: float64(2), object(22)\n",
      "memory usage: 54.2+ MB\n"
     ]
    }
   ],
   "source": [
    "train.info()"
   ]
  },
  {
   "cell_type": "code",
   "execution_count": 19,
   "metadata": {},
   "outputs": [
    {
     "data": {
      "text/plain": [
       "parsing_unixtime          0\n",
       "sell_id                   0\n",
       "car_url                   0\n",
       "description               0\n",
       "image                     0\n",
       "bodyType                  0\n",
       "color                     0\n",
       "engineDisplacement        0\n",
       "enginePower               0\n",
       "fuelType                  0\n",
       "mileage                   0\n",
       "productionDate            0\n",
       "vehicleTransmission       0\n",
       "Владельцы                 0\n",
       "ПТС                       1\n",
       "Привод                    0\n",
       "Руль                      0\n",
       "Состояние                 0\n",
       "Таможня                   0\n",
       "brand                     0\n",
       "model_name                0\n",
       "name                      0\n",
       "equipment_dict         9996\n",
       "dtype: int64"
      ]
     },
     "execution_count": 19,
     "metadata": {},
     "output_type": "execute_result"
    }
   ],
   "source": [
    "test.isna().sum()"
   ]
  },
  {
   "cell_type": "code",
   "execution_count": 20,
   "metadata": {},
   "outputs": [
    {
     "name": "stdout",
     "output_type": "stream",
     "text": [
      "<class 'pandas.core.frame.DataFrame'>\n",
      "RangeIndex: 34686 entries, 0 to 34685\n",
      "Data columns (total 23 columns):\n",
      " #   Column               Non-Null Count  Dtype \n",
      "---  ------               --------------  ----- \n",
      " 0   parsing_unixtime     34686 non-null  int64 \n",
      " 1   sell_id              34686 non-null  int64 \n",
      " 2   car_url              34686 non-null  object\n",
      " 3   description          34686 non-null  object\n",
      " 4   image                34686 non-null  object\n",
      " 5   bodyType             34686 non-null  object\n",
      " 6   color                34686 non-null  object\n",
      " 7   engineDisplacement   34686 non-null  object\n",
      " 8   enginePower          34686 non-null  object\n",
      " 9   fuelType             34686 non-null  object\n",
      " 10  mileage              34686 non-null  int64 \n",
      " 11  productionDate       34686 non-null  int64 \n",
      " 12  vehicleTransmission  34686 non-null  object\n",
      " 13  Владельцы            34686 non-null  object\n",
      " 14  ПТС                  34685 non-null  object\n",
      " 15  Привод               34686 non-null  object\n",
      " 16  Руль                 34686 non-null  object\n",
      " 17  Состояние            34686 non-null  object\n",
      " 18  Таможня              34686 non-null  object\n",
      " 19  brand                34686 non-null  object\n",
      " 20  model_name           34686 non-null  object\n",
      " 21  name                 34686 non-null  object\n",
      " 22  equipment_dict       24690 non-null  object\n",
      "dtypes: int64(4), object(19)\n",
      "memory usage: 6.1+ MB\n"
     ]
    }
   ],
   "source": [
    "test.info()"
   ]
  },
  {
   "cell_type": "markdown",
   "metadata": {},
   "source": [
    "Удалим столбцы description & equipment_dict так как там остались пустые значения        "
   ]
  },
  {
   "cell_type": "code",
   "execution_count": 21,
   "metadata": {},
   "outputs": [],
   "source": [
    "train = train.drop(['description', 'equipment_dict'], axis=1)\n",
    "test = test.drop(['description', 'equipment_dict'], axis=1)"
   ]
  },
  {
   "cell_type": "markdown",
   "metadata": {},
   "source": [
    "Предобработка данных"
   ]
  },
  {
   "cell_type": "markdown",
   "metadata": {},
   "source": [
    "Все числовые параметры изменим на числа"
   ]
  },
  {
   "cell_type": "code",
   "execution_count": 22,
   "metadata": {},
   "outputs": [],
   "source": [
    "train['price'] = [''.join(re.findall(\"\\d*\\.?\\d+\", item)) for item in train['price']]\n",
    "train['engineDisplacement'] = [''.join(re.findall(\"\\d*\\.\\d+\", item)) for item in train['engineDisplacement']]\n",
    "train['enginePower'] = [''.join(re.findall(\"\\d*\\.?\\d+\", item)) for item in train['enginePower']]\n",
    "train['mileage'] = [''.join(re.findall(\"\\d*\\.?\\d+\", item)) for item in train['mileage']]\n",
    "train['Владельцы'] = [''.join(re.findall(\"\\d*\\.?\\d+\", item)) for item in train['Владельцы']]\n",
    "\n",
    "test['engineDisplacement'] = [''.join(re.findall(\"\\d*\\.\\d+\", item)) for item in test['engineDisplacement']]\n",
    "test['enginePower'] = test['enginePower'].apply(lambda x: x.replace(' N12', ''))\n",
    "test['Владельцы'] = [''.join(re.findall(\"\\d*\\.?\\d+\", item)) for item in test['Владельцы']]"
   ]
  },
  {
   "cell_type": "markdown",
   "metadata": {},
   "source": [
    "Изменим все типы данных у измененных параметров"
   ]
  },
  {
   "cell_type": "code",
   "execution_count": 23,
   "metadata": {},
   "outputs": [],
   "source": [
    "train['price'] = train['price'].values.astype('int64')\n",
    "train['engineDisplacement'] = train['engineDisplacement'].values.astype('float64')\n",
    "train['enginePower'] = train['enginePower'].values.astype('int64')\n",
    "train['mileage'] = train['mileage'].values.astype('int64')\n",
    "train['Владельцы'] = train['Владельцы'].values.astype('int64')\n",
    "\n",
    "#test['engineDisplacement'] = test['engineDisplacement'].values.astype('float64')\n",
    "test['enginePower'] = test['enginePower'].values.astype('int64')\n",
    "test['Владельцы'] = test['Владельцы'].values.astype('int64')"
   ]
  },
  {
   "cell_type": "markdown",
   "metadata": {},
   "source": [
    "Удаляю столбцы, которые очень вряд ли на что-то влияют"
   ]
  },
  {
   "cell_type": "code",
   "execution_count": 24,
   "metadata": {},
   "outputs": [],
   "source": [
    "columns_to_drop_2 = ['parsing_unixtime', 'sell_id', 'car_url', 'image', 'name', 'color', 'fuelType', 'bodyType', 'Таможня']\n",
    "#удаляю либо из-за того что не нужные, либо тестовая отличается от тренировочной, либо тяжело преобразовать \n",
    "# в числовые из категориальных"
   ]
  },
  {
   "cell_type": "code",
   "execution_count": 25,
   "metadata": {},
   "outputs": [
    {
     "name": "stdout",
     "output_type": "stream",
     "text": [
      "<class 'pandas.core.frame.DataFrame'>\n",
      "RangeIndex: 34686 entries, 0 to 34685\n",
      "Data columns (total 12 columns):\n",
      " #   Column               Non-Null Count  Dtype \n",
      "---  ------               --------------  ----- \n",
      " 0   engineDisplacement   34686 non-null  object\n",
      " 1   enginePower          34686 non-null  int64 \n",
      " 2   mileage              34686 non-null  int64 \n",
      " 3   productionDate       34686 non-null  int64 \n",
      " 4   vehicleTransmission  34686 non-null  object\n",
      " 5   Владельцы            34686 non-null  int64 \n",
      " 6   ПТС                  34685 non-null  object\n",
      " 7   Привод               34686 non-null  object\n",
      " 8   Руль                 34686 non-null  object\n",
      " 9   Состояние            34686 non-null  object\n",
      " 10  brand                34686 non-null  object\n",
      " 11  model_name           34686 non-null  object\n",
      "dtypes: int64(4), object(8)\n",
      "memory usage: 3.2+ MB\n"
     ]
    }
   ],
   "source": [
    "test = test.drop(columns_to_drop_2, axis=1)\n",
    "train = train.drop(columns_to_drop_2, axis=1)\n",
    "\n",
    "test.info()"
   ]
  },
  {
   "cell_type": "markdown",
   "metadata": {},
   "source": [
    "EDA"
   ]
  },
  {
   "cell_type": "markdown",
   "metadata": {},
   "source": [
    "Рассмотрим наиболее важные признаки и их зависимость от целевой переменной"
   ]
  },
  {
   "cell_type": "code",
   "execution_count": 26,
   "metadata": {},
   "outputs": [],
   "source": [
    "train['log_price'] = np.log(train.price)"
   ]
  },
  {
   "cell_type": "code",
   "execution_count": 27,
   "metadata": {},
   "outputs": [
    {
     "data": {
      "image/png": "[encoded data removed]",
      "text/plain": [
       "<Figure size 576x360 with 1 Axes>"
      ]
     },
     "metadata": {
      "needs_background": "light"
     },
     "output_type": "display_data"
    }
   ],
   "source": [
    "plt.figure(figsize=(8, 5))\n",
    "g1 = sns.boxplot(y='log_price', x='engineDisplacement', \n",
    "                  data=train, color='darkgreen')\n",
    "g1.set_title(\"price of bodyTypes\", fontsize=20)\n",
    "\n",
    "g1.set_ylabel(\"log_price\", fontsize=15)\n",
    "g1.set_xticklabels(g1.get_xticklabels(),rotation=45)\n",
    "plt.show()"
   ]
  },
  {
   "cell_type": "code",
   "execution_count": 28,
   "metadata": {},
   "outputs": [
    {
     "data": {
      "image/png": "[encoded data removed]",
      "text/plain": [
       "<Figure size 576x360 with 1 Axes>"
      ]
     },
     "metadata": {
      "needs_background": "light"
     },
     "output_type": "display_data"
    }
   ],
   "source": [
    "plt.figure(figsize=(8, 5))\n",
    "g1 = sns.boxplot(y='log_price', x='enginePower', \n",
    "                  data=train, color='darkgreen')\n",
    "g1.set_title(\"price of bodyTypes\", fontsize=20)\n",
    "\n",
    "g1.set_ylabel(\"log_price\", fontsize=15)\n",
    "g1.set_xticklabels(g1.get_xticklabels(),rotation=45)\n",
    "plt.show()"
   ]
  },
  {
   "cell_type": "markdown",
   "metadata": {},
   "source": [
    "Дальше смотреть на графики мне показалось не информативным, буду создавать полиномиальные признаки"
   ]
  },
  {
   "cell_type": "code",
   "execution_count": 29,
   "metadata": {},
   "outputs": [
    {
     "name": "stdout",
     "output_type": "stream",
     "text": [
      "<class 'pandas.core.frame.DataFrame'>\n",
      "RangeIndex: 34686 entries, 0 to 34685\n",
      "Data columns (total 12 columns):\n",
      " #   Column               Non-Null Count  Dtype \n",
      "---  ------               --------------  ----- \n",
      " 0   engineDisplacement   34686 non-null  object\n",
      " 1   enginePower          34686 non-null  int64 \n",
      " 2   mileage              34686 non-null  int64 \n",
      " 3   productionDate       34686 non-null  int64 \n",
      " 4   vehicleTransmission  34686 non-null  object\n",
      " 5   Владельцы            34686 non-null  int64 \n",
      " 6   ПТС                  34685 non-null  object\n",
      " 7   Привод               34686 non-null  object\n",
      " 8   Руль                 34686 non-null  object\n",
      " 9   Состояние            34686 non-null  object\n",
      " 10  brand                34686 non-null  object\n",
      " 11  model_name           34686 non-null  object\n",
      "dtypes: int64(4), object(8)\n",
      "memory usage: 3.2+ MB\n"
     ]
    }
   ],
   "source": [
    "test.info()"
   ]
  },
  {
   "cell_type": "code",
   "execution_count": 30,
   "metadata": {},
   "outputs": [
    {
     "data": {
      "text/html": [
       "<div>\n",
       "<style scoped>\n",
       "    .dataframe tbody tr th:only-of-type {\n",
       "        vertical-align: middle;\n",
       "    }\n",
       "\n",
       "    .dataframe tbody tr th {\n",
       "        vertical-align: top;\n",
       "    }\n",
       "\n",
       "    .dataframe thead th {\n",
       "        text-align: right;\n",
       "    }\n",
       "</style>\n",
       "<table border=\"1\" class=\"dataframe\">\n",
       "  <thead>\n",
       "    <tr style=\"text-align: right;\">\n",
       "      <th></th>\n",
       "      <th>engineDisplacement</th>\n",
       "      <th>enginePower</th>\n",
       "      <th>mileage</th>\n",
       "      <th>productionDate</th>\n",
       "      <th>vehicleTransmission</th>\n",
       "      <th>Владельцы</th>\n",
       "      <th>ПТС</th>\n",
       "      <th>Привод</th>\n",
       "      <th>Руль</th>\n",
       "      <th>Состояние</th>\n",
       "      <th>brand</th>\n",
       "      <th>model_name</th>\n",
       "    </tr>\n",
       "  </thead>\n",
       "  <tbody>\n",
       "    <tr>\n",
       "      <th>0</th>\n",
       "      <td>1.2</td>\n",
       "      <td>105</td>\n",
       "      <td>74000</td>\n",
       "      <td>2014</td>\n",
       "      <td>0</td>\n",
       "      <td>3</td>\n",
       "      <td>0</td>\n",
       "      <td>0</td>\n",
       "      <td>1</td>\n",
       "      <td>1</td>\n",
       "      <td>0</td>\n",
       "      <td>0</td>\n",
       "    </tr>\n",
       "    <tr>\n",
       "      <th>1</th>\n",
       "      <td>1.6</td>\n",
       "      <td>110</td>\n",
       "      <td>60563</td>\n",
       "      <td>2017</td>\n",
       "      <td>0</td>\n",
       "      <td>1</td>\n",
       "      <td>0</td>\n",
       "      <td>0</td>\n",
       "      <td>1</td>\n",
       "      <td>1</td>\n",
       "      <td>0</td>\n",
       "      <td>0</td>\n",
       "    </tr>\n",
       "    <tr>\n",
       "      <th>2</th>\n",
       "      <td>1.8</td>\n",
       "      <td>152</td>\n",
       "      <td>88000</td>\n",
       "      <td>2014</td>\n",
       "      <td>0</td>\n",
       "      <td>1</td>\n",
       "      <td>0</td>\n",
       "      <td>0</td>\n",
       "      <td>1</td>\n",
       "      <td>1</td>\n",
       "      <td>0</td>\n",
       "      <td>0</td>\n",
       "    </tr>\n",
       "  </tbody>\n",
       "</table>\n",
       "</div>"
      ],
      "text/plain": [
       "  engineDisplacement  enginePower  mileage  productionDate  \\\n",
       "0                1.2          105    74000            2014   \n",
       "1                1.6          110    60563            2017   \n",
       "2                1.8          152    88000            2014   \n",
       "\n",
       "   vehicleTransmission  Владельцы  ПТС  Привод  Руль  Состояние  brand  \\\n",
       "0                    0          3    0       0     1          1      0   \n",
       "1                    0          1    0       0     1          1      0   \n",
       "2                    0          1    0       0     1          1      0   \n",
       "\n",
       "   model_name  \n",
       "0           0  \n",
       "1           0  \n",
       "2           0  "
      ]
     },
     "execution_count": 30,
     "metadata": {},
     "output_type": "execute_result"
    }
   ],
   "source": [
    "#dummy = ['vehicleTransmission', 'ПТС', 'Привод', 'Руль', 'Состояние', 'Таможня']\n",
    "#for col in dummy:\n",
    "train['vehicleTransmission'] = pd.get_dummies(train['vehicleTransmission'])\n",
    "train['ПТС'] = pd.get_dummies(train['ПТС'])\n",
    "train['Привод'] = pd.get_dummies(train['Привод'])\n",
    "train['Руль'] = pd.get_dummies(train['Руль'])\n",
    "train['Состояние'] = pd.get_dummies(train['Состояние'])\n",
    "train['brand'] = pd.get_dummies(train['brand'])\n",
    "train['model_name'] = pd.get_dummies(train['model_name'])\n",
    "\n",
    "test['vehicleTransmission'] = pd.get_dummies(test['vehicleTransmission'])\n",
    "test['ПТС'] = pd.get_dummies(test['ПТС'])\n",
    "test['Привод'] = pd.get_dummies(test['Привод'])\n",
    "test['Руль'] = pd.get_dummies(test['Руль'])\n",
    "test['Состояние'] = pd.get_dummies(test['Состояние'])\n",
    "test['brand'] = pd.get_dummies(test['brand'])\n",
    "test['model_name'] = pd.get_dummies(test['model_name'])\n",
    "\n",
    "\n",
    "train.head(3)\n",
    "test.head(3)"
   ]
  },
  {
   "cell_type": "code",
   "execution_count": 31,
   "metadata": {},
   "outputs": [],
   "source": [
    "X = train.drop('price', axis=1)\n",
    "y = train['price']"
   ]
  },
  {
   "cell_type": "code",
   "execution_count": 32,
   "metadata": {
    "scrolled": true
   },
   "outputs": [],
   "source": [
    "X_train, X_test, y_train, y_test = train_test_split(X, y, test_size=0.7, shuffle=True, random_state=RANDOM_SEED)"
   ]
  },
  {
   "cell_type": "code",
   "execution_count": 33,
   "metadata": {},
   "outputs": [
    {
     "data": {
      "text/plain": [
       "116948    12.779873\n",
       "7311      14.062371\n",
       "168145    10.463103\n",
       "22847     14.316286\n",
       "32570     12.206073\n",
       "            ...    \n",
       "120436    13.864301\n",
       "259738    12.206073\n",
       "132489    14.585156\n",
       "147424    12.100712\n",
       "122515    13.795308\n",
       "Name: price, Length: 85220, dtype: float64"
      ]
     },
     "execution_count": 33,
     "metadata": {},
     "output_type": "execute_result"
    }
   ],
   "source": [
    "np.log(y_train)"
   ]
  },
  {
   "cell_type": "code",
   "execution_count": 37,
   "metadata": {},
   "outputs": [
    {
     "name": "stdout",
     "output_type": "stream",
     "text": [
      "Точность модели по метрике MAPE: 0.42%\n"
     ]
    }
   ],
   "source": [
    "model = CatBoostRegressor(iterations = 5000, random_seed = RANDOM_SEED, eval_metric='MAPE', custom_metric=['R2', 'MAE'], silent=True, ) \n",
    "model.fit(X_train, np.log(y_train),\n",
    "     eval_set=(X_test, np.log(y_test)),\n",
    "     verbose_eval=0,\n",
    "     use_best_model=True,\n",
    "     )\n",
    "\n",
    "predict_test = np.exp(model.predict(X_test)) \n",
    "#predict_submission = np.exp(model.predict(X_sub))\n",
    "\n",
    "print(f\"Точность модели по метрике MAPE: {(mape(y_test, predict_test))*100:0.2f}%\")"
   ]
  },
  {
   "cell_type": "code",
   "execution_count": 38,
   "metadata": {},
   "outputs": [
    {
     "name": "stdout",
     "output_type": "stream",
     "text": [
      "Точность модели по метрике MAPE: 0.00%\n"
     ]
    }
   ],
   "source": [
    "gb = GradientBoostingRegressor(min_samples_split=2, learning_rate=0.03, max_depth=10, n_estimators=1000)\n",
    "gb.fit(X_train, np.log(y_train))\n",
    "predict_test = np.exp(gb.predict(X_test))\n",
    "print(f\"Точность модели по метрике MAPE: {(mape(y_test, predict_test))*100:0.2f}%\")"
   ]
  },
  {
   "cell_type": "code",
   "execution_count": 39,
   "metadata": {},
   "outputs": [
    {
     "name": "stdout",
     "output_type": "stream",
     "text": [
      "Точность модели по метрике MAPE: 2.60%\n"
     ]
    }
   ],
   "source": [
    "rfr = RandomForestRegressor(n_estimators=1000, max_depth = 15, max_features = 'log2', random_state = 42, oob_score=True,) \n",
    "rfr.fit(X_train, np.log(y_train))\n",
    "\n",
    "predict_test = np.exp(rfr.predict(X_test))\n",
    "\n",
    "print(f\"Точность модели по метрике MAPE: {(mape(y_test, predict_test))*100:0.2f}%\")"
   ]
  },
  {
   "cell_type": "markdown",
   "metadata": {},
   "source": [
    "Вывод"
   ]
  },
  {
   "cell_type": "markdown",
   "metadata": {},
   "source": [
    "У меня совсем не хватило времени качественно выполнить проект\n",
    "Да и идей в голове особо нет, что и как можно улучшить\n",
    "Во-первых я бОльшую часть времени потратила на то чтобы спарсить данные, но у меня ничего не получилось\n",
    "И я взяла готовое решение на kaggle\n",
    "\n",
    "Далее я пыталась разобраться с предобработкой\n",
    "В EDA скорее всего надо было добавить новые признаки, на основании имеющихся данных\n",
    "Но опять же время поджимало и я решила пойти по самому простому пути\n",
    "\n",
    "В итоге получилось очень плохо, я знаю (("
   ]
  }
 ],
 "metadata": {
  "kernelspec": {
   "display_name": "Python 3",
   "language": "python",
   "name": "python3"
  },
  "language_info": {
   "codemirror_mode": {
    "name": "ipython",
    "version": 3
   },
   "file_extension": ".py",
   "mimetype": "text/x-python",
   "name": "python",
   "nbconvert_exporter": "python",
   "pygments_lexer": "ipython3",
   "version": "3.7.3"
  }
 },
 "nbformat": 4,
 "nbformat_minor": 4
}
