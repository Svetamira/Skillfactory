{
 "cells": [
  {
   "cell_type": "markdown",
   "metadata": {},
   "source": [
    "# Загрузка Pandas и очистка данных"
   ]
  },
  {
   "cell_type": "code",
   "execution_count": 1,
   "metadata": {},
   "outputs": [],
   "source": [
    "import pandas as pd\n",
    "import datetime\n",
    "import re\n",
    "from collections import Counter\n",
    "import seaborn as sns\n",
    "import matplotlib.pyplot as plt\n",
    "import numpy as np"
   ]
  },
  {
   "cell_type": "code",
   "execution_count": 2,
   "metadata": {},
   "outputs": [],
   "source": [
    "df = pd.read_csv('main_task.xls')"
   ]
  },
  {
   "cell_type": "code",
   "execution_count": 3,
   "metadata": {},
   "outputs": [
    {
     "name": "stdout",
     "output_type": "stream",
     "text": [
      "<class 'pandas.core.frame.DataFrame'>\n",
      "RangeIndex: 40000 entries, 0 to 39999\n",
      "Data columns (total 10 columns):\n",
      " #   Column             Non-Null Count  Dtype  \n",
      "---  ------             --------------  -----  \n",
      " 0   Restaurant_id      40000 non-null  object \n",
      " 1   City               40000 non-null  object \n",
      " 2   Cuisine Style      30717 non-null  object \n",
      " 3   Ranking            40000 non-null  float64\n",
      " 4   Rating             40000 non-null  float64\n",
      " 5   Price Range        26114 non-null  object \n",
      " 6   Number of Reviews  37457 non-null  float64\n",
      " 7   Reviews            40000 non-null  object \n",
      " 8   URL_TA             40000 non-null  object \n",
      " 9   ID_TA              40000 non-null  object \n",
      "dtypes: float64(3), object(7)\n",
      "memory usage: 3.1+ MB\n"
     ]
    }
   ],
   "source": [
    "df.info()"
   ]
  },
  {
   "cell_type": "markdown",
   "metadata": {},
   "source": [
    "В трех столбцах есть пустые значения. В столбце где указана кухня заменяю все пустые значения на Cuisine, \n",
    "предполагая, что в ресторане представлена 1 тип кухни\n",
    "В столбцах с ценовым сегментом и количеством отзывов пока заменяю на 0"
   ]
  },
  {
   "cell_type": "code",
   "execution_count": 5,
   "metadata": {},
   "outputs": [],
   "source": [
    "df['Cuisine Style'] = df['Cuisine Style'].fillna('Cuisine')\n",
    "df['Price Range'] = df['Price Range'].fillna(0)\n",
    "df['Number of Reviews'] = df['Number of Reviews'].fillna(0)"
   ]
  },
  {
   "cell_type": "code",
   "execution_count": 6,
   "metadata": {},
   "outputs": [
    {
     "data": {
      "text/plain": [
       "$$ - $$$    18412\n",
       "0           13886\n",
       "$            6279\n",
       "$$$$         1423\n",
       "Name: Price Range, dtype: int64"
      ]
     },
     "execution_count": 6,
     "metadata": {},
     "output_type": "execute_result"
    }
   ],
   "source": [
    "df['Price Range'].value_counts()"
   ]
  },
  {
   "cell_type": "markdown",
   "metadata": {},
   "source": [
    "Так как в столбце Price Range всего 3 варианта непустых значений, добавляю столбец с их dummy переменными"
   ]
  },
  {
   "cell_type": "code",
   "execution_count": 7,
   "metadata": {},
   "outputs": [],
   "source": [
    "price_range = {'$': 1, '$$ - $$$': 2, '$$$$': 3}\n",
    "df['Price Range Dummy'] = df['Price Range'].replace(to_replace=price_range)"
   ]
  },
  {
   "cell_type": "code",
   "execution_count": 8,
   "metadata": {},
   "outputs": [
    {
     "data": {
      "text/html": [
       "<div>\n",
       "<style scoped>\n",
       "    .dataframe tbody tr th:only-of-type {\n",
       "        vertical-align: middle;\n",
       "    }\n",
       "\n",
       "    .dataframe tbody tr th {\n",
       "        vertical-align: top;\n",
       "    }\n",
       "\n",
       "    .dataframe thead th {\n",
       "        text-align: right;\n",
       "    }\n",
       "</style>\n",
       "<table border=\"1\" class=\"dataframe\">\n",
       "  <thead>\n",
       "    <tr style=\"text-align: right;\">\n",
       "      <th></th>\n",
       "      <th>Restaurant_id</th>\n",
       "      <th>City</th>\n",
       "      <th>Cuisine Style</th>\n",
       "      <th>Ranking</th>\n",
       "      <th>Rating</th>\n",
       "      <th>Price Range</th>\n",
       "      <th>Number of Reviews</th>\n",
       "      <th>Reviews</th>\n",
       "      <th>URL_TA</th>\n",
       "      <th>ID_TA</th>\n",
       "      <th>Price Range Dummy</th>\n",
       "    </tr>\n",
       "  </thead>\n",
       "  <tbody>\n",
       "    <tr>\n",
       "      <th>0</th>\n",
       "      <td>id_5569</td>\n",
       "      <td>Paris</td>\n",
       "      <td>['European', 'French', 'International']</td>\n",
       "      <td>5570.0</td>\n",
       "      <td>3.5</td>\n",
       "      <td>$$ - $$$</td>\n",
       "      <td>194.0</td>\n",
       "      <td>[['Good food at your doorstep', 'A good hotel ...</td>\n",
       "      <td>/Restaurant_Review-g187147-d1912643-Reviews-R_...</td>\n",
       "      <td>d1912643</td>\n",
       "      <td>2</td>\n",
       "    </tr>\n",
       "    <tr>\n",
       "      <th>1</th>\n",
       "      <td>id_1535</td>\n",
       "      <td>Stockholm</td>\n",
       "      <td>Cuisine</td>\n",
       "      <td>1537.0</td>\n",
       "      <td>4.0</td>\n",
       "      <td>0</td>\n",
       "      <td>10.0</td>\n",
       "      <td>[['Unique cuisine', 'Delicious Nepalese food']...</td>\n",
       "      <td>/Restaurant_Review-g189852-d7992032-Reviews-Bu...</td>\n",
       "      <td>d7992032</td>\n",
       "      <td>0</td>\n",
       "    </tr>\n",
       "    <tr>\n",
       "      <th>2</th>\n",
       "      <td>id_352</td>\n",
       "      <td>London</td>\n",
       "      <td>['Japanese', 'Sushi', 'Asian', 'Grill', 'Veget...</td>\n",
       "      <td>353.0</td>\n",
       "      <td>4.5</td>\n",
       "      <td>$$$$</td>\n",
       "      <td>688.0</td>\n",
       "      <td>[['Catch up with friends', 'Not exceptional'],...</td>\n",
       "      <td>/Restaurant_Review-g186338-d8632781-Reviews-RO...</td>\n",
       "      <td>d8632781</td>\n",
       "      <td>3</td>\n",
       "    </tr>\n",
       "    <tr>\n",
       "      <th>3</th>\n",
       "      <td>id_3456</td>\n",
       "      <td>Berlin</td>\n",
       "      <td>Cuisine</td>\n",
       "      <td>3458.0</td>\n",
       "      <td>5.0</td>\n",
       "      <td>0</td>\n",
       "      <td>3.0</td>\n",
       "      <td>[[], []]</td>\n",
       "      <td>/Restaurant_Review-g187323-d1358776-Reviews-Es...</td>\n",
       "      <td>d1358776</td>\n",
       "      <td>0</td>\n",
       "    </tr>\n",
       "    <tr>\n",
       "      <th>4</th>\n",
       "      <td>id_615</td>\n",
       "      <td>Munich</td>\n",
       "      <td>['German', 'Central European', 'Vegetarian Fri...</td>\n",
       "      <td>621.0</td>\n",
       "      <td>4.0</td>\n",
       "      <td>$$ - $$$</td>\n",
       "      <td>84.0</td>\n",
       "      <td>[['Best place to try a Bavarian food', 'Nice b...</td>\n",
       "      <td>/Restaurant_Review-g187309-d6864963-Reviews-Au...</td>\n",
       "      <td>d6864963</td>\n",
       "      <td>2</td>\n",
       "    </tr>\n",
       "  </tbody>\n",
       "</table>\n",
       "</div>"
      ],
      "text/plain": [
       "  Restaurant_id       City                                      Cuisine Style  \\\n",
       "0       id_5569      Paris            ['European', 'French', 'International']   \n",
       "1       id_1535  Stockholm                                            Cuisine   \n",
       "2        id_352     London  ['Japanese', 'Sushi', 'Asian', 'Grill', 'Veget...   \n",
       "3       id_3456     Berlin                                            Cuisine   \n",
       "4        id_615     Munich  ['German', 'Central European', 'Vegetarian Fri...   \n",
       "\n",
       "   Ranking  Rating Price Range  Number of Reviews  \\\n",
       "0   5570.0     3.5    $$ - $$$              194.0   \n",
       "1   1537.0     4.0           0               10.0   \n",
       "2    353.0     4.5        $$$$              688.0   \n",
       "3   3458.0     5.0           0                3.0   \n",
       "4    621.0     4.0    $$ - $$$               84.0   \n",
       "\n",
       "                                             Reviews  \\\n",
       "0  [['Good food at your doorstep', 'A good hotel ...   \n",
       "1  [['Unique cuisine', 'Delicious Nepalese food']...   \n",
       "2  [['Catch up with friends', 'Not exceptional'],...   \n",
       "3                                           [[], []]   \n",
       "4  [['Best place to try a Bavarian food', 'Nice b...   \n",
       "\n",
       "                                              URL_TA     ID_TA  \\\n",
       "0  /Restaurant_Review-g187147-d1912643-Reviews-R_...  d1912643   \n",
       "1  /Restaurant_Review-g189852-d7992032-Reviews-Bu...  d7992032   \n",
       "2  /Restaurant_Review-g186338-d8632781-Reviews-RO...  d8632781   \n",
       "3  /Restaurant_Review-g187323-d1358776-Reviews-Es...  d1358776   \n",
       "4  /Restaurant_Review-g187309-d6864963-Reviews-Au...  d6864963   \n",
       "\n",
       "   Price Range Dummy  \n",
       "0                  2  \n",
       "1                  0  \n",
       "2                  3  \n",
       "3                  0  \n",
       "4                  2  "
      ]
     },
     "execution_count": 8,
     "metadata": {},
     "output_type": "execute_result"
    }
   ],
   "source": [
    "df.head()"
   ]
  },
  {
   "cell_type": "markdown",
   "metadata": {},
   "source": [
    "Добавила новый столбец с количеством кухонь в ресторане"
   ]
  },
  {
   "cell_type": "code",
   "execution_count": 9,
   "metadata": {},
   "outputs": [],
   "source": [
    "pattern = re.compile('\\w+\\s*\\w*\\s*\\w*[&]*\\s*\\w*')\n",
    "df['Number of Cuisines'] = df['Cuisine Style'].apply(lambda x: len(pattern.findall(x)))"
   ]
  },
  {
   "cell_type": "code",
   "execution_count": 10,
   "metadata": {},
   "outputs": [
    {
     "data": {
      "text/html": [
       "<div>\n",
       "<style scoped>\n",
       "    .dataframe tbody tr th:only-of-type {\n",
       "        vertical-align: middle;\n",
       "    }\n",
       "\n",
       "    .dataframe tbody tr th {\n",
       "        vertical-align: top;\n",
       "    }\n",
       "\n",
       "    .dataframe thead th {\n",
       "        text-align: right;\n",
       "    }\n",
       "</style>\n",
       "<table border=\"1\" class=\"dataframe\">\n",
       "  <thead>\n",
       "    <tr style=\"text-align: right;\">\n",
       "      <th></th>\n",
       "      <th>Restaurant_id</th>\n",
       "      <th>City</th>\n",
       "      <th>Cuisine Style</th>\n",
       "      <th>Ranking</th>\n",
       "      <th>Rating</th>\n",
       "      <th>Price Range</th>\n",
       "      <th>Number of Reviews</th>\n",
       "      <th>Reviews</th>\n",
       "      <th>URL_TA</th>\n",
       "      <th>ID_TA</th>\n",
       "      <th>Price Range Dummy</th>\n",
       "      <th>Number of Cuisines</th>\n",
       "    </tr>\n",
       "  </thead>\n",
       "  <tbody>\n",
       "    <tr>\n",
       "      <th>0</th>\n",
       "      <td>id_5569</td>\n",
       "      <td>Paris</td>\n",
       "      <td>['European', 'French', 'International']</td>\n",
       "      <td>5570.0</td>\n",
       "      <td>3.5</td>\n",
       "      <td>$$ - $$$</td>\n",
       "      <td>194.0</td>\n",
       "      <td>[['Good food at your doorstep', 'A good hotel ...</td>\n",
       "      <td>/Restaurant_Review-g187147-d1912643-Reviews-R_...</td>\n",
       "      <td>d1912643</td>\n",
       "      <td>2</td>\n",
       "      <td>3</td>\n",
       "    </tr>\n",
       "    <tr>\n",
       "      <th>1</th>\n",
       "      <td>id_1535</td>\n",
       "      <td>Stockholm</td>\n",
       "      <td>Cuisine</td>\n",
       "      <td>1537.0</td>\n",
       "      <td>4.0</td>\n",
       "      <td>0</td>\n",
       "      <td>10.0</td>\n",
       "      <td>[['Unique cuisine', 'Delicious Nepalese food']...</td>\n",
       "      <td>/Restaurant_Review-g189852-d7992032-Reviews-Bu...</td>\n",
       "      <td>d7992032</td>\n",
       "      <td>0</td>\n",
       "      <td>1</td>\n",
       "    </tr>\n",
       "    <tr>\n",
       "      <th>2</th>\n",
       "      <td>id_352</td>\n",
       "      <td>London</td>\n",
       "      <td>['Japanese', 'Sushi', 'Asian', 'Grill', 'Veget...</td>\n",
       "      <td>353.0</td>\n",
       "      <td>4.5</td>\n",
       "      <td>$$$$</td>\n",
       "      <td>688.0</td>\n",
       "      <td>[['Catch up with friends', 'Not exceptional'],...</td>\n",
       "      <td>/Restaurant_Review-g186338-d8632781-Reviews-RO...</td>\n",
       "      <td>d8632781</td>\n",
       "      <td>3</td>\n",
       "      <td>7</td>\n",
       "    </tr>\n",
       "    <tr>\n",
       "      <th>3</th>\n",
       "      <td>id_3456</td>\n",
       "      <td>Berlin</td>\n",
       "      <td>Cuisine</td>\n",
       "      <td>3458.0</td>\n",
       "      <td>5.0</td>\n",
       "      <td>0</td>\n",
       "      <td>3.0</td>\n",
       "      <td>[[], []]</td>\n",
       "      <td>/Restaurant_Review-g187323-d1358776-Reviews-Es...</td>\n",
       "      <td>d1358776</td>\n",
       "      <td>0</td>\n",
       "      <td>1</td>\n",
       "    </tr>\n",
       "    <tr>\n",
       "      <th>4</th>\n",
       "      <td>id_615</td>\n",
       "      <td>Munich</td>\n",
       "      <td>['German', 'Central European', 'Vegetarian Fri...</td>\n",
       "      <td>621.0</td>\n",
       "      <td>4.0</td>\n",
       "      <td>$$ - $$$</td>\n",
       "      <td>84.0</td>\n",
       "      <td>[['Best place to try a Bavarian food', 'Nice b...</td>\n",
       "      <td>/Restaurant_Review-g187309-d6864963-Reviews-Au...</td>\n",
       "      <td>d6864963</td>\n",
       "      <td>2</td>\n",
       "      <td>3</td>\n",
       "    </tr>\n",
       "  </tbody>\n",
       "</table>\n",
       "</div>"
      ],
      "text/plain": [
       "  Restaurant_id       City                                      Cuisine Style  \\\n",
       "0       id_5569      Paris            ['European', 'French', 'International']   \n",
       "1       id_1535  Stockholm                                            Cuisine   \n",
       "2        id_352     London  ['Japanese', 'Sushi', 'Asian', 'Grill', 'Veget...   \n",
       "3       id_3456     Berlin                                            Cuisine   \n",
       "4        id_615     Munich  ['German', 'Central European', 'Vegetarian Fri...   \n",
       "\n",
       "   Ranking  Rating Price Range  Number of Reviews  \\\n",
       "0   5570.0     3.5    $$ - $$$              194.0   \n",
       "1   1537.0     4.0           0               10.0   \n",
       "2    353.0     4.5        $$$$              688.0   \n",
       "3   3458.0     5.0           0                3.0   \n",
       "4    621.0     4.0    $$ - $$$               84.0   \n",
       "\n",
       "                                             Reviews  \\\n",
       "0  [['Good food at your doorstep', 'A good hotel ...   \n",
       "1  [['Unique cuisine', 'Delicious Nepalese food']...   \n",
       "2  [['Catch up with friends', 'Not exceptional'],...   \n",
       "3                                           [[], []]   \n",
       "4  [['Best place to try a Bavarian food', 'Nice b...   \n",
       "\n",
       "                                              URL_TA     ID_TA  \\\n",
       "0  /Restaurant_Review-g187147-d1912643-Reviews-R_...  d1912643   \n",
       "1  /Restaurant_Review-g189852-d7992032-Reviews-Bu...  d7992032   \n",
       "2  /Restaurant_Review-g186338-d8632781-Reviews-RO...  d8632781   \n",
       "3  /Restaurant_Review-g187323-d1358776-Reviews-Es...  d1358776   \n",
       "4  /Restaurant_Review-g187309-d6864963-Reviews-Au...  d6864963   \n",
       "\n",
       "   Price Range Dummy  Number of Cuisines  \n",
       "0                  2                   3  \n",
       "1                  0                   1  \n",
       "2                  3                   7  \n",
       "3                  0                   1  \n",
       "4                  2                   3  "
      ]
     },
     "execution_count": 10,
     "metadata": {},
     "output_type": "execute_result"
    }
   ],
   "source": [
    "df.head()"
   ]
  },
  {
   "cell_type": "markdown",
   "metadata": {},
   "source": [
    "Добавила новый столбец с датами публикации отзывов"
   ]
  },
  {
   "cell_type": "code",
   "execution_count": 11,
   "metadata": {},
   "outputs": [],
   "source": [
    "pattern = re.compile('\\'\\d+\\/\\d+\\/\\d+\\'?')\n",
    "df['Reviews Date'] = df['Reviews'].apply(lambda x: pattern.findall(x))"
   ]
  },
  {
   "cell_type": "markdown",
   "metadata": {},
   "source": [
    "Создаю новый столбец со странами (возможно пригодится)"
   ]
  },
  {
   "cell_type": "code",
   "execution_count": 12,
   "metadata": {},
   "outputs": [],
   "source": [
    "df['City'].value_counts()\n",
    "\n",
    "country = {'London': 'England', 'Paris': 'France', 'Madrid': 'Spain', 'Barcelona': 'Spain', \n",
    "           'Berlin': 'Germany', 'Milan': 'Italy', 'Rome': 'Italy', 'Prague': 'Czech', 'Lisbon': 'Portugal',\n",
    "           'Vienna': 'Austria', 'Amsterdam': 'Netherlands', 'Brussels': 'Belgium', 'Hamburg': 'Germany', \n",
    "           'Munich': 'Germany', 'Lyon': 'France', 'Stockholm': 'Sweden', 'Budapest': 'Hungary', \n",
    "           'Warsaw': 'Poland', 'Dublin': 'Ireland', 'Copenhagen': 'Denmark', 'Athens': 'Greece', \n",
    "           'Edinburgh': 'Scotland' , 'Zurich': 'Switzerland', 'Oporto': 'Portugal', \n",
    "           'Geneva': 'Switzerland', 'Krakow': 'Poland', 'Oslo': 'Norway', 'Helsinki': 'Finland', \n",
    "           'Bratislava': 'Slovakia', 'Luxembourg': 'Luxembourg', 'Ljubljana': 'Slovenia'}\n",
    "\n",
    "df['Country'] = df['City'].replace(to_replace=country)"
   ]
  },
  {
   "cell_type": "markdown",
   "metadata": {},
   "source": [
    "Взяла отсюда классификацию для стран Европы\n",
    "https://ykl-shk.azureedge.net//goods/ymk/geography/work5/theory/10/geo_11.gif\n",
    "    \n",
    "Добавила новый столбец с принадлежностью к частью Европы, тк мне кажется это может \n",
    "быть важным при дальнейшем анализе"
   ]
  },
  {
   "cell_type": "code",
   "execution_count": 13,
   "metadata": {},
   "outputs": [],
   "source": [
    "part_of_europe = {'Spain': 'Southern Europe', 'France': 'Western Europe', 'England': 'Western Europe', \n",
    "                  'Italy': 'Southern Europe', 'Germany': 'Western Europe', 'Portugal': 'Southern Europe', \n",
    "                  'Czech': 'Eastern Europe', 'Poland': 'Eastern Europe', 'Austria':  'Western Europe', \n",
    "                  'Netherlands': 'Western Europe', 'Belgium': 'Western Europe', \n",
    "                  'Switzerland': 'Western Europe', 'Sweden': 'Northern Europe',\n",
    "                  'Hungary': 'Eastern Europe', 'Ireland': 'Western Europe', 'Denmark': 'Northern Europe', \n",
    "                  'Greece': 'Southern Europe', 'Scotland': 'Western Europe', 'Norway': 'Northern Europe', \n",
    "                  'Finland': 'Northern Europe', 'Slovakia': 'Eastern Europe', \n",
    "                  'Luxembourg': 'Western Europe', 'Slovenia': 'Southern Europe'}\n",
    "\n",
    "df['Part of Europe'] = df['Country'].replace(to_replace=part_of_europe)"
   ]
  },
  {
   "cell_type": "markdown",
   "metadata": {},
   "source": [
    "Заменяю категориальные признаки на числовые в новом столбце по частям Европы"
   ]
  },
  {
   "cell_type": "code",
   "execution_count": 14,
   "metadata": {},
   "outputs": [],
   "source": [
    "part_of_eur = {'Southern Europe': 1, 'Western Europe': 2, 'Eastern Europe': 3, 'Northern Europe': 4}\n",
    "df['Part of Europe Dummy'] = df['Part of Europe'].replace(to_replace=part_of_eur)"
   ]
  },
  {
   "cell_type": "code",
   "execution_count": 15,
   "metadata": {},
   "outputs": [
    {
     "data": {
      "text/html": [
       "<div>\n",
       "<style scoped>\n",
       "    .dataframe tbody tr th:only-of-type {\n",
       "        vertical-align: middle;\n",
       "    }\n",
       "\n",
       "    .dataframe tbody tr th {\n",
       "        vertical-align: top;\n",
       "    }\n",
       "\n",
       "    .dataframe thead th {\n",
       "        text-align: right;\n",
       "    }\n",
       "</style>\n",
       "<table border=\"1\" class=\"dataframe\">\n",
       "  <thead>\n",
       "    <tr style=\"text-align: right;\">\n",
       "      <th></th>\n",
       "      <th>Restaurant_id</th>\n",
       "      <th>City</th>\n",
       "      <th>Cuisine Style</th>\n",
       "      <th>Ranking</th>\n",
       "      <th>Rating</th>\n",
       "      <th>Price Range</th>\n",
       "      <th>Number of Reviews</th>\n",
       "      <th>Reviews</th>\n",
       "      <th>URL_TA</th>\n",
       "      <th>ID_TA</th>\n",
       "      <th>Price Range Dummy</th>\n",
       "      <th>Number of Cuisines</th>\n",
       "      <th>Reviews Date</th>\n",
       "      <th>Country</th>\n",
       "      <th>Part of Europe</th>\n",
       "      <th>Part of Europe Dummy</th>\n",
       "    </tr>\n",
       "  </thead>\n",
       "  <tbody>\n",
       "    <tr>\n",
       "      <th>0</th>\n",
       "      <td>id_5569</td>\n",
       "      <td>Paris</td>\n",
       "      <td>['European', 'French', 'International']</td>\n",
       "      <td>5570.0</td>\n",
       "      <td>3.5</td>\n",
       "      <td>$$ - $$$</td>\n",
       "      <td>194.0</td>\n",
       "      <td>[['Good food at your doorstep', 'A good hotel ...</td>\n",
       "      <td>/Restaurant_Review-g187147-d1912643-Reviews-R_...</td>\n",
       "      <td>d1912643</td>\n",
       "      <td>2</td>\n",
       "      <td>3</td>\n",
       "      <td>['12/31/2017', '11/20/2017']</td>\n",
       "      <td>France</td>\n",
       "      <td>Western Europe</td>\n",
       "      <td>2</td>\n",
       "    </tr>\n",
       "    <tr>\n",
       "      <th>1</th>\n",
       "      <td>id_1535</td>\n",
       "      <td>Stockholm</td>\n",
       "      <td>Cuisine</td>\n",
       "      <td>1537.0</td>\n",
       "      <td>4.0</td>\n",
       "      <td>0</td>\n",
       "      <td>10.0</td>\n",
       "      <td>[['Unique cuisine', 'Delicious Nepalese food']...</td>\n",
       "      <td>/Restaurant_Review-g189852-d7992032-Reviews-Bu...</td>\n",
       "      <td>d7992032</td>\n",
       "      <td>0</td>\n",
       "      <td>1</td>\n",
       "      <td>['07/06/2017', '06/19/2016']</td>\n",
       "      <td>Sweden</td>\n",
       "      <td>Northern Europe</td>\n",
       "      <td>4</td>\n",
       "    </tr>\n",
       "    <tr>\n",
       "      <th>2</th>\n",
       "      <td>id_352</td>\n",
       "      <td>London</td>\n",
       "      <td>['Japanese', 'Sushi', 'Asian', 'Grill', 'Veget...</td>\n",
       "      <td>353.0</td>\n",
       "      <td>4.5</td>\n",
       "      <td>$$$$</td>\n",
       "      <td>688.0</td>\n",
       "      <td>[['Catch up with friends', 'Not exceptional'],...</td>\n",
       "      <td>/Restaurant_Review-g186338-d8632781-Reviews-RO...</td>\n",
       "      <td>d8632781</td>\n",
       "      <td>3</td>\n",
       "      <td>7</td>\n",
       "      <td>['01/08/2018', '01/06/2018']</td>\n",
       "      <td>England</td>\n",
       "      <td>Western Europe</td>\n",
       "      <td>2</td>\n",
       "    </tr>\n",
       "    <tr>\n",
       "      <th>3</th>\n",
       "      <td>id_3456</td>\n",
       "      <td>Berlin</td>\n",
       "      <td>Cuisine</td>\n",
       "      <td>3458.0</td>\n",
       "      <td>5.0</td>\n",
       "      <td>0</td>\n",
       "      <td>3.0</td>\n",
       "      <td>[[], []]</td>\n",
       "      <td>/Restaurant_Review-g187323-d1358776-Reviews-Es...</td>\n",
       "      <td>d1358776</td>\n",
       "      <td>0</td>\n",
       "      <td>1</td>\n",
       "      <td>[]</td>\n",
       "      <td>Germany</td>\n",
       "      <td>Western Europe</td>\n",
       "      <td>2</td>\n",
       "    </tr>\n",
       "    <tr>\n",
       "      <th>4</th>\n",
       "      <td>id_615</td>\n",
       "      <td>Munich</td>\n",
       "      <td>['German', 'Central European', 'Vegetarian Fri...</td>\n",
       "      <td>621.0</td>\n",
       "      <td>4.0</td>\n",
       "      <td>$$ - $$$</td>\n",
       "      <td>84.0</td>\n",
       "      <td>[['Best place to try a Bavarian food', 'Nice b...</td>\n",
       "      <td>/Restaurant_Review-g187309-d6864963-Reviews-Au...</td>\n",
       "      <td>d6864963</td>\n",
       "      <td>2</td>\n",
       "      <td>3</td>\n",
       "      <td>['11/18/2017', '02/19/2017']</td>\n",
       "      <td>Germany</td>\n",
       "      <td>Western Europe</td>\n",
       "      <td>2</td>\n",
       "    </tr>\n",
       "  </tbody>\n",
       "</table>\n",
       "</div>"
      ],
      "text/plain": [
       "  Restaurant_id       City                                      Cuisine Style  \\\n",
       "0       id_5569      Paris            ['European', 'French', 'International']   \n",
       "1       id_1535  Stockholm                                            Cuisine   \n",
       "2        id_352     London  ['Japanese', 'Sushi', 'Asian', 'Grill', 'Veget...   \n",
       "3       id_3456     Berlin                                            Cuisine   \n",
       "4        id_615     Munich  ['German', 'Central European', 'Vegetarian Fri...   \n",
       "\n",
       "   Ranking  Rating Price Range  Number of Reviews  \\\n",
       "0   5570.0     3.5    $$ - $$$              194.0   \n",
       "1   1537.0     4.0           0               10.0   \n",
       "2    353.0     4.5        $$$$              688.0   \n",
       "3   3458.0     5.0           0                3.0   \n",
       "4    621.0     4.0    $$ - $$$               84.0   \n",
       "\n",
       "                                             Reviews  \\\n",
       "0  [['Good food at your doorstep', 'A good hotel ...   \n",
       "1  [['Unique cuisine', 'Delicious Nepalese food']...   \n",
       "2  [['Catch up with friends', 'Not exceptional'],...   \n",
       "3                                           [[], []]   \n",
       "4  [['Best place to try a Bavarian food', 'Nice b...   \n",
       "\n",
       "                                              URL_TA     ID_TA  \\\n",
       "0  /Restaurant_Review-g187147-d1912643-Reviews-R_...  d1912643   \n",
       "1  /Restaurant_Review-g189852-d7992032-Reviews-Bu...  d7992032   \n",
       "2  /Restaurant_Review-g186338-d8632781-Reviews-RO...  d8632781   \n",
       "3  /Restaurant_Review-g187323-d1358776-Reviews-Es...  d1358776   \n",
       "4  /Restaurant_Review-g187309-d6864963-Reviews-Au...  d6864963   \n",
       "\n",
       "   Price Range Dummy  Number of Cuisines                  Reviews Date  \\\n",
       "0                  2                   3  ['12/31/2017', '11/20/2017']   \n",
       "1                  0                   1  ['07/06/2017', '06/19/2016']   \n",
       "2                  3                   7  ['01/08/2018', '01/06/2018']   \n",
       "3                  0                   1                            []   \n",
       "4                  2                   3  ['11/18/2017', '02/19/2017']   \n",
       "\n",
       "   Country   Part of Europe  Part of Europe Dummy  \n",
       "0   France   Western Europe                     2  \n",
       "1   Sweden  Northern Europe                     4  \n",
       "2  England   Western Europe                     2  \n",
       "3  Germany   Western Europe                     2  \n",
       "4  Germany   Western Europe                     2  "
      ]
     },
     "execution_count": 15,
     "metadata": {},
     "output_type": "execute_result"
    }
   ],
   "source": [
    "df.head()"
   ]
  },
  {
   "cell_type": "markdown",
   "metadata": {},
   "source": [
    "Строю боксплоты для всех числовых столбцов, чтобы посмотреть на выбросы, в столбцах Ranking и Rating\n",
    "есть выбросы, но думаю они соответствуют действительности\n",
    "\n",
    "В столбце с количеством отзывов картинка гораздо страннее, есть рестораны с больше, чем 5000 отзывами\n",
    "возможно накрутка или неправильно было заменять пустые значения на 0, тк их было достаточно много"
   ]
  },
  {
   "cell_type": "code",
   "execution_count": 16,
   "metadata": {},
   "outputs": [
    {
     "name": "stderr",
     "output_type": "stream",
     "text": [
      "c:\\users\\svetamira\\miniconda3\\lib\\site-packages\\seaborn\\_decorators.py:43: FutureWarning: Pass the following variable as a keyword arg: x. From version 0.12, the only valid positional argument will be `data`, and passing other arguments without an explicit keyword will result in an error or misinterpretation.\n",
      "  FutureWarning\n"
     ]
    },
    {
     "data": {
      "text/plain": [
       "<AxesSubplot:xlabel='Number of Reviews'>"
      ]
     },
     "execution_count": 16,
     "metadata": {},
     "output_type": "execute_result"
    },
    {
     "data": {
      "image/png": "[encoded data removed]",
      "text/plain": [
       "<Figure size 432x288 with 1 Axes>"
      ]
     },
     "metadata": {
      "needs_background": "light"
     },
     "output_type": "display_data"
    }
   ],
   "source": [
    "#sns.boxplot(df['Ranking'])\n",
    "#sns.boxplot(df['Rating'])\n",
    "sns.boxplot(df['Number of Reviews'])"
   ]
  },
  {
   "cell_type": "markdown",
   "metadata": {},
   "source": [
    "Посмотрю отдельно на столбец с количеством отзывов со значением 0 и там где столбец Reviews не пуст\n",
    "Замечаю что в уже в новом построенном столбце с датой отзыва, только одна дата\n",
    "Заменю значение в столбце Number of Reviews как минимум на 1"
   ]
  },
  {
   "cell_type": "code",
   "execution_count": 20,
   "metadata": {},
   "outputs": [],
   "source": [
    "df[(df['Reviews'] != '[[], []]') & (df['Number of Reviews'] == 0)]\n",
    "df['Number of Reviews'] = np.where((df['Reviews'] != '[[], []]') & (df['Number of Reviews'] == 0), 1, df['Number of Reviews'])"
   ]
  },
  {
   "cell_type": "code",
   "execution_count": 25,
   "metadata": {},
   "outputs": [
    {
     "name": "stdout",
     "output_type": "stream",
     "text": [
      "<class 'pandas.core.frame.DataFrame'>\n",
      "RangeIndex: 40000 entries, 0 to 39999\n",
      "Data columns (total 16 columns):\n",
      " #   Column                Non-Null Count  Dtype  \n",
      "---  ------                --------------  -----  \n",
      " 0   Restaurant_id         40000 non-null  object \n",
      " 1   City                  40000 non-null  object \n",
      " 2   Cuisine Style         40000 non-null  object \n",
      " 3   Ranking               40000 non-null  float64\n",
      " 4   Rating                40000 non-null  float64\n",
      " 5   Price Range           40000 non-null  object \n",
      " 6   Number of Reviews     40000 non-null  float64\n",
      " 7   Reviews               40000 non-null  object \n",
      " 8   URL_TA                40000 non-null  object \n",
      " 9   ID_TA                 40000 non-null  object \n",
      " 10  Price Range Dummy     40000 non-null  int64  \n",
      " 11  Number of Cuisines    40000 non-null  int64  \n",
      " 12  Reviews Date          40000 non-null  object \n",
      " 13  Country               40000 non-null  object \n",
      " 14  Part of Europe        40000 non-null  object \n",
      " 15  Part of Europe Dummy  40000 non-null  int64  \n",
      "dtypes: float64(3), int64(3), object(10)\n",
      "memory usage: 4.9+ MB\n"
     ]
    }
   ],
   "source": [
    "df.info()"
   ]
  },
  {
   "cell_type": "markdown",
   "metadata": {},
   "source": [
    "Строю матрицу корреляций"
   ]
  },
  {
   "cell_type": "code",
   "execution_count": 38,
   "metadata": {},
   "outputs": [],
   "source": [
    "corr_matrix = df.corr().abs()"
   ]
  },
  {
   "cell_type": "code",
   "execution_count": 41,
   "metadata": {},
   "outputs": [
    {
     "data": {
      "text/html": [
       "<style  type=\"text/css\" >\n",
       "#T_0915a0d8_698b_11eb_aa70_78843cf4ff37row0_col0,#T_0915a0d8_698b_11eb_aa70_78843cf4ff37row1_col1,#T_0915a0d8_698b_11eb_aa70_78843cf4ff37row2_col2,#T_0915a0d8_698b_11eb_aa70_78843cf4ff37row3_col3,#T_0915a0d8_698b_11eb_aa70_78843cf4ff37row4_col4,#T_0915a0d8_698b_11eb_aa70_78843cf4ff37row5_col5{\n",
       "            background-color:  #b40426;\n",
       "            color:  #f1f1f1;\n",
       "        }#T_0915a0d8_698b_11eb_aa70_78843cf4ff37row0_col1{\n",
       "            background-color:  #b5cdfa;\n",
       "            color:  #000000;\n",
       "        }#T_0915a0d8_698b_11eb_aa70_78843cf4ff37row0_col2{\n",
       "            background-color:  #7b9ff9;\n",
       "            color:  #000000;\n",
       "        }#T_0915a0d8_698b_11eb_aa70_78843cf4ff37row0_col3{\n",
       "            background-color:  #89acfd;\n",
       "            color:  #000000;\n",
       "        }#T_0915a0d8_698b_11eb_aa70_78843cf4ff37row0_col4{\n",
       "            background-color:  #9fbfff;\n",
       "            color:  #000000;\n",
       "        }#T_0915a0d8_698b_11eb_aa70_78843cf4ff37row0_col5{\n",
       "            background-color:  #6180e9;\n",
       "            color:  #000000;\n",
       "        }#T_0915a0d8_698b_11eb_aa70_78843cf4ff37row1_col0{\n",
       "            background-color:  #96b7ff;\n",
       "            color:  #000000;\n",
       "        }#T_0915a0d8_698b_11eb_aa70_78843cf4ff37row1_col2,#T_0915a0d8_698b_11eb_aa70_78843cf4ff37row3_col5,#T_0915a0d8_698b_11eb_aa70_78843cf4ff37row5_col0,#T_0915a0d8_698b_11eb_aa70_78843cf4ff37row5_col1,#T_0915a0d8_698b_11eb_aa70_78843cf4ff37row5_col3,#T_0915a0d8_698b_11eb_aa70_78843cf4ff37row5_col4{\n",
       "            background-color:  #3b4cc0;\n",
       "            color:  #f1f1f1;\n",
       "        }#T_0915a0d8_698b_11eb_aa70_78843cf4ff37row1_col3{\n",
       "            background-color:  #4961d2;\n",
       "            color:  #f1f1f1;\n",
       "        }#T_0915a0d8_698b_11eb_aa70_78843cf4ff37row1_col4{\n",
       "            background-color:  #5875e1;\n",
       "            color:  #000000;\n",
       "        }#T_0915a0d8_698b_11eb_aa70_78843cf4ff37row1_col5{\n",
       "            background-color:  #3c4ec2;\n",
       "            color:  #f1f1f1;\n",
       "        }#T_0915a0d8_698b_11eb_aa70_78843cf4ff37row2_col0{\n",
       "            background-color:  #5d7ce6;\n",
       "            color:  #000000;\n",
       "        }#T_0915a0d8_698b_11eb_aa70_78843cf4ff37row2_col1{\n",
       "            background-color:  #3f53c6;\n",
       "            color:  #f1f1f1;\n",
       "        }#T_0915a0d8_698b_11eb_aa70_78843cf4ff37row2_col3{\n",
       "            background-color:  #a2c1ff;\n",
       "            color:  #000000;\n",
       "        }#T_0915a0d8_698b_11eb_aa70_78843cf4ff37row2_col4,#T_0915a0d8_698b_11eb_aa70_78843cf4ff37row4_col2{\n",
       "            background-color:  #bcd2f7;\n",
       "            color:  #000000;\n",
       "        }#T_0915a0d8_698b_11eb_aa70_78843cf4ff37row2_col5{\n",
       "            background-color:  #4e68d8;\n",
       "            color:  #000000;\n",
       "        }#T_0915a0d8_698b_11eb_aa70_78843cf4ff37row3_col0{\n",
       "            background-color:  #6485ec;\n",
       "            color:  #000000;\n",
       "        }#T_0915a0d8_698b_11eb_aa70_78843cf4ff37row3_col1{\n",
       "            background-color:  #485fd1;\n",
       "            color:  #f1f1f1;\n",
       "        }#T_0915a0d8_698b_11eb_aa70_78843cf4ff37row3_col2{\n",
       "            background-color:  #9dbdff;\n",
       "            color:  #000000;\n",
       "        }#T_0915a0d8_698b_11eb_aa70_78843cf4ff37row3_col4{\n",
       "            background-color:  #ead5c9;\n",
       "            color:  #000000;\n",
       "        }#T_0915a0d8_698b_11eb_aa70_78843cf4ff37row4_col0{\n",
       "            background-color:  #82a6fb;\n",
       "            color:  #000000;\n",
       "        }#T_0915a0d8_698b_11eb_aa70_78843cf4ff37row4_col1{\n",
       "            background-color:  #5e7de7;\n",
       "            color:  #000000;\n",
       "        }#T_0915a0d8_698b_11eb_aa70_78843cf4ff37row4_col3{\n",
       "            background-color:  #ecd3c5;\n",
       "            color:  #000000;\n",
       "        }#T_0915a0d8_698b_11eb_aa70_78843cf4ff37row4_col5{\n",
       "            background-color:  #4257c9;\n",
       "            color:  #f1f1f1;\n",
       "        }#T_0915a0d8_698b_11eb_aa70_78843cf4ff37row5_col2{\n",
       "            background-color:  #465ecf;\n",
       "            color:  #f1f1f1;\n",
       "        }</style><table id=\"T_0915a0d8_698b_11eb_aa70_78843cf4ff37\" ><thead>    <tr>        <th class=\"blank level0\" ></th>        <th class=\"col_heading level0 col0\" >Ranking</th>        <th class=\"col_heading level0 col1\" >Rating</th>        <th class=\"col_heading level0 col2\" >Number of Reviews</th>        <th class=\"col_heading level0 col3\" >Price Range Dummy</th>        <th class=\"col_heading level0 col4\" >Number of Cuisines</th>        <th class=\"col_heading level0 col5\" >Part of Europe Dummy</th>    </tr></thead><tbody>\n",
       "                <tr>\n",
       "                        <th id=\"T_0915a0d8_698b_11eb_aa70_78843cf4ff37level0_row0\" class=\"row_heading level0 row0\" >Ranking</th>\n",
       "                        <td id=\"T_0915a0d8_698b_11eb_aa70_78843cf4ff37row0_col0\" class=\"data row0 col0\" >1.000000</td>\n",
       "                        <td id=\"T_0915a0d8_698b_11eb_aa70_78843cf4ff37row0_col1\" class=\"data row0 col1\" >0.368371</td>\n",
       "                        <td id=\"T_0915a0d8_698b_11eb_aa70_78843cf4ff37row0_col2\" class=\"data row0 col2\" >0.222030</td>\n",
       "                        <td id=\"T_0915a0d8_698b_11eb_aa70_78843cf4ff37row0_col3\" class=\"data row0 col3\" >0.243553</td>\n",
       "                        <td id=\"T_0915a0d8_698b_11eb_aa70_78843cf4ff37row0_col4\" class=\"data row0 col4\" >0.320250</td>\n",
       "                        <td id=\"T_0915a0d8_698b_11eb_aa70_78843cf4ff37row0_col5\" class=\"data row0 col5\" >0.126378</td>\n",
       "            </tr>\n",
       "            <tr>\n",
       "                        <th id=\"T_0915a0d8_698b_11eb_aa70_78843cf4ff37level0_row1\" class=\"row_heading level0 row1\" >Rating</th>\n",
       "                        <td id=\"T_0915a0d8_698b_11eb_aa70_78843cf4ff37row1_col0\" class=\"data row1 col0\" >0.368371</td>\n",
       "                        <td id=\"T_0915a0d8_698b_11eb_aa70_78843cf4ff37row1_col1\" class=\"data row1 col1\" >1.000000</td>\n",
       "                        <td id=\"T_0915a0d8_698b_11eb_aa70_78843cf4ff37row1_col2\" class=\"data row1 col2\" >0.026938</td>\n",
       "                        <td id=\"T_0915a0d8_698b_11eb_aa70_78843cf4ff37row1_col3\" class=\"data row1 col3\" >0.051643</td>\n",
       "                        <td id=\"T_0915a0d8_698b_11eb_aa70_78843cf4ff37row1_col4\" class=\"data row1 col4\" >0.120059</td>\n",
       "                        <td id=\"T_0915a0d8_698b_11eb_aa70_78843cf4ff37row1_col5\" class=\"data row1 col5\" >0.007585</td>\n",
       "            </tr>\n",
       "            <tr>\n",
       "                        <th id=\"T_0915a0d8_698b_11eb_aa70_78843cf4ff37level0_row2\" class=\"row_heading level0 row2\" >Number of Reviews</th>\n",
       "                        <td id=\"T_0915a0d8_698b_11eb_aa70_78843cf4ff37row2_col0\" class=\"data row2 col0\" >0.222030</td>\n",
       "                        <td id=\"T_0915a0d8_698b_11eb_aa70_78843cf4ff37row2_col1\" class=\"data row2 col1\" >0.026938</td>\n",
       "                        <td id=\"T_0915a0d8_698b_11eb_aa70_78843cf4ff37row2_col2\" class=\"data row2 col2\" >1.000000</td>\n",
       "                        <td id=\"T_0915a0d8_698b_11eb_aa70_78843cf4ff37row2_col3\" class=\"data row2 col3\" >0.312600</td>\n",
       "                        <td id=\"T_0915a0d8_698b_11eb_aa70_78843cf4ff37row2_col4\" class=\"data row2 col4\" >0.405599</td>\n",
       "                        <td id=\"T_0915a0d8_698b_11eb_aa70_78843cf4ff37row2_col5\" class=\"data row2 col5\" >0.066735</td>\n",
       "            </tr>\n",
       "            <tr>\n",
       "                        <th id=\"T_0915a0d8_698b_11eb_aa70_78843cf4ff37level0_row3\" class=\"row_heading level0 row3\" >Price Range Dummy</th>\n",
       "                        <td id=\"T_0915a0d8_698b_11eb_aa70_78843cf4ff37row3_col0\" class=\"data row3 col0\" >0.243553</td>\n",
       "                        <td id=\"T_0915a0d8_698b_11eb_aa70_78843cf4ff37row3_col1\" class=\"data row3 col1\" >0.051643</td>\n",
       "                        <td id=\"T_0915a0d8_698b_11eb_aa70_78843cf4ff37row3_col2\" class=\"data row3 col2\" >0.312600</td>\n",
       "                        <td id=\"T_0915a0d8_698b_11eb_aa70_78843cf4ff37row3_col3\" class=\"data row3 col3\" >1.000000</td>\n",
       "                        <td id=\"T_0915a0d8_698b_11eb_aa70_78843cf4ff37row3_col4\" class=\"data row3 col4\" >0.565227</td>\n",
       "                        <td id=\"T_0915a0d8_698b_11eb_aa70_78843cf4ff37row3_col5\" class=\"data row3 col5\" >0.002361</td>\n",
       "            </tr>\n",
       "            <tr>\n",
       "                        <th id=\"T_0915a0d8_698b_11eb_aa70_78843cf4ff37level0_row4\" class=\"row_heading level0 row4\" >Number of Cuisines</th>\n",
       "                        <td id=\"T_0915a0d8_698b_11eb_aa70_78843cf4ff37row4_col0\" class=\"data row4 col0\" >0.320250</td>\n",
       "                        <td id=\"T_0915a0d8_698b_11eb_aa70_78843cf4ff37row4_col1\" class=\"data row4 col1\" >0.120059</td>\n",
       "                        <td id=\"T_0915a0d8_698b_11eb_aa70_78843cf4ff37row4_col2\" class=\"data row4 col2\" >0.405599</td>\n",
       "                        <td id=\"T_0915a0d8_698b_11eb_aa70_78843cf4ff37row4_col3\" class=\"data row4 col3\" >0.565227</td>\n",
       "                        <td id=\"T_0915a0d8_698b_11eb_aa70_78843cf4ff37row4_col4\" class=\"data row4 col4\" >1.000000</td>\n",
       "                        <td id=\"T_0915a0d8_698b_11eb_aa70_78843cf4ff37row4_col5\" class=\"data row4 col5\" >0.026804</td>\n",
       "            </tr>\n",
       "            <tr>\n",
       "                        <th id=\"T_0915a0d8_698b_11eb_aa70_78843cf4ff37level0_row5\" class=\"row_heading level0 row5\" >Part of Europe Dummy</th>\n",
       "                        <td id=\"T_0915a0d8_698b_11eb_aa70_78843cf4ff37row5_col0\" class=\"data row5 col0\" >0.126378</td>\n",
       "                        <td id=\"T_0915a0d8_698b_11eb_aa70_78843cf4ff37row5_col1\" class=\"data row5 col1\" >0.007585</td>\n",
       "                        <td id=\"T_0915a0d8_698b_11eb_aa70_78843cf4ff37row5_col2\" class=\"data row5 col2\" >0.066735</td>\n",
       "                        <td id=\"T_0915a0d8_698b_11eb_aa70_78843cf4ff37row5_col3\" class=\"data row5 col3\" >0.002361</td>\n",
       "                        <td id=\"T_0915a0d8_698b_11eb_aa70_78843cf4ff37row5_col4\" class=\"data row5 col4\" >0.026804</td>\n",
       "                        <td id=\"T_0915a0d8_698b_11eb_aa70_78843cf4ff37row5_col5\" class=\"data row5 col5\" >1.000000</td>\n",
       "            </tr>\n",
       "    </tbody></table>"
      ],
      "text/plain": [
       "<pandas.io.formats.style.Styler at 0x20bf7f443c8>"
      ]
     },
     "execution_count": 41,
     "metadata": {},
     "output_type": "execute_result"
    }
   ],
   "source": [
    "corr_matrix\n",
    "corr_matrix.style.background_gradient(cmap='coolwarm')"
   ]
  },
  {
   "cell_type": "markdown",
   "metadata": {},
   "source": [
    "# Разбиваем датафрейм на части, необходимые для обучения и тестирования модели"
   ]
  },
  {
   "cell_type": "code",
   "execution_count": 26,
   "metadata": {},
   "outputs": [],
   "source": [
    "# Х - данные с информацией о ресторанах, у - целевая переменная (рейтинги ресторанов)\n",
    "X = df.drop(['Restaurant_id', 'City', 'Cuisine Style', \n",
    "             'Price Range', 'Reviews', 'URL_TA', 'ID_TA', \n",
    "             'Reviews Date', 'Country', 'Part of Europe', 'Rating'], axis = 1).fillna(0)\n",
    "y = df['Rating']"
   ]
  },
  {
   "cell_type": "code",
   "execution_count": 27,
   "metadata": {},
   "outputs": [],
   "source": [
    "# Загружаем специальный инструмент для разбивки:\n",
    "from sklearn.model_selection import train_test_split"
   ]
  },
  {
   "cell_type": "code",
   "execution_count": 28,
   "metadata": {},
   "outputs": [],
   "source": [
    "# Наборы данных с меткой \"train\" будут использоваться для обучения модели, \"test\" - для тестирования.\n",
    "# Для тестирования мы будем использовать 25% от исходного датасета.\n",
    "X_train, X_test, y_train, y_test = train_test_split(X, y, test_size=0.25)"
   ]
  },
  {
   "cell_type": "markdown",
   "metadata": {},
   "source": [
    "# Создаём, обучаем и тестируем модель"
   ]
  },
  {
   "cell_type": "code",
   "execution_count": 29,
   "metadata": {},
   "outputs": [],
   "source": [
    "# Импортируем необходимые библиотеки:\n",
    "from sklearn.ensemble import RandomForestRegressor # инструмент для создания и обучения модели\n",
    "from sklearn import metrics # инструменты для оценки точности модели"
   ]
  },
  {
   "cell_type": "code",
   "execution_count": 30,
   "metadata": {},
   "outputs": [],
   "source": [
    "# Создаём модель\n",
    "regr = RandomForestRegressor(n_estimators=100)\n",
    "\n",
    "# Обучаем модель на тестовом наборе данных\n",
    "regr.fit(X_train, y_train)\n",
    "\n",
    "# Используем обученную модель для предсказания рейтинга ресторанов в тестовой выборке.\n",
    "# Предсказанные значения записываем в переменную y_pred\n",
    "y_pred = regr.predict(X_test)"
   ]
  },
  {
   "cell_type": "code",
   "execution_count": 48,
   "metadata": {},
   "outputs": [
    {
     "name": "stdout",
     "output_type": "stream",
     "text": [
      "MAE: 0.3292527492063492\n"
     ]
    }
   ],
   "source": [
    "# Сравниваем предсказанные значения (y_pred) с реальными (y_test), и смотрим насколько они в среднем отличаются\n",
    "# Метрика называется Mean Absolute Error (MAE) и показывает среднее отклонение предсказанных значений от фактических.\n",
    "print('MAE:', metrics.mean_absolute_error(y_test, y_pred))"
   ]
  },
  {
   "cell_type": "markdown",
   "metadata": {},
   "source": [
    "Вывод\n",
    "\n",
    "Самая большая корреляция у признаков количество кухонь и ценовой сегмент\n",
    "Самая низкая - часть Европы и ценовой сегмнт (хотя мне казалось что корреляция будет больше:()\n",
    "\n",
    "Среднее отклонение за счет создания новых признаков снизилось, но незначительно\n",
    "\n",
    "P.S. Думала сделать dummy переменные, по отдельным столбцам, например с частями Европы, но не поняла как добавлять несколько столбцов к уже существующему датафрейму :( Можете, пожалуйста, в фидбэке прислать код, как это делается\n",
    "Может так результат был бы лучше"
   ]
  },
  {
   "cell_type": "code",
   "execution_count": null,
   "metadata": {},
   "outputs": [],
   "source": []
  }
 ],
 "metadata": {
  "kernelspec": {
   "display_name": "Python 3",
   "language": "python",
   "name": "python3"
  },
  "language_info": {
   "codemirror_mode": {
    "name": "ipython",
    "version": 3
   },
   "file_extension": ".py",
   "mimetype": "text/x-python",
   "name": "python",
   "nbconvert_exporter": "python",
   "pygments_lexer": "ipython3",
   "version": "3.7.3"
  }
 },
 "nbformat": 4,
 "nbformat_minor": 2
}
